{
 "cells": [
  {
   "cell_type": "code",
   "execution_count": 1,
   "id": "81f6ad0b-5cc1-43f1-9498-84aa7600c091",
   "metadata": {},
   "outputs": [],
   "source": [
    "import pandas as pd\n",
    "from sklearn.model_selection import train_test_split\n",
    "from sklearn.metrics import accuracy_score\n",
    "from sklearn.tree import DecisionTreeClassifier\n",
    "from sklearn.ensemble import RandomForestClassifier"
   ]
  },
  {
   "cell_type": "code",
   "execution_count": 2,
   "id": "463eba1b-0e7d-4fd4-90aa-963b83367330",
   "metadata": {},
   "outputs": [],
   "source": [
    "# Read in training data\n",
    "data = pd.read_csv('../data/train.csv')\n",
    "test = pd.read_csv('../data/test.csv')"
   ]
  },
  {
   "cell_type": "code",
   "execution_count": 3,
   "id": "2c7f1a2b-61e5-4dab-86e5-507f9f51846b",
   "metadata": {},
   "outputs": [],
   "source": [
    "# Create X which does not have the 'answers' and y which only has the answers\n",
    "X = data.drop(['Survived'], axis=1)\n",
    "y = data[['Survived']]"
   ]
  },
  {
   "cell_type": "code",
   "execution_count": 4,
   "id": "697b55c9-ab16-4c00-aefe-b095cfee0d33",
   "metadata": {},
   "outputs": [
    {
     "data": {
      "text/plain": [
       "((712, 11), (712, 1), (179, 11), (179, 1))"
      ]
     },
     "execution_count": 4,
     "metadata": {},
     "output_type": "execute_result"
    }
   ],
   "source": [
    "# Splitting the data\n",
    "X_train, X_val, y_train, y_val = train_test_split(X, y, test_size = .2, random_state=10)\n",
    "X_train.shape, y_train.shape, X_val.shape, y_val.shape"
   ]
  },
  {
   "cell_type": "code",
   "execution_count": 5,
   "id": "02bfbee4-664d-44be-ba4c-e299eaf19c11",
   "metadata": {},
   "outputs": [],
   "source": [
    "# Concat the trains and vals together\n",
    "df_train = pd.concat([X_train, y_train], axis = 1)\n",
    "df_val = pd.concat([X_val, y_val], axis = 1)\n",
    "\n",
    "# Separating y_train and y_val into arrays\n",
    "y_train = df_train['Survived']\n",
    "y_val = df_val['Survived']"
   ]
  },
  {
   "cell_type": "markdown",
   "id": "0ab7daea-44e3-4cc1-a8e5-49c2617319ea",
   "metadata": {},
   "source": [
    "## Manually Fixing all data"
   ]
  },
  {
   "cell_type": "markdown",
   "id": "f36b70ff-6071-4ba8-b6a9-11b374ec49ab",
   "metadata": {},
   "source": [
    "* Change Sex to Numerical"
   ]
  },
  {
   "cell_type": "code",
   "execution_count": 6,
   "id": "b2f6566c-0ed8-4d5e-b90e-6cf3267d03da",
   "metadata": {},
   "outputs": [],
   "source": [
    "# Reassign 'Male/Female' as 1/0 in Train and Val\n",
    "df_train['Sex'] = df_train['Sex'].replace({'male' : 1, 'female': 0})\n",
    "df_train['Sex'] = df_train['Sex'].astype(int)\n",
    "\n",
    "df_val['Sex'] = df_val['Sex'].replace({'male' : 1, 'female': 0})\n",
    "df_val['Sex'] = df_val['Sex'].astype(int)"
   ]
  },
  {
   "cell_type": "markdown",
   "id": "c7be0dc8-5313-4d33-b43a-2412c39c3a23",
   "metadata": {},
   "source": [
    "* Fill Nan Ages with Ages corresponding to Class and Survival"
   ]
  },
  {
   "cell_type": "code",
   "execution_count": 7,
   "id": "fc2545fd-32e1-40e1-8509-ccee0e1413ce",
   "metadata": {},
   "outputs": [],
   "source": [
    "# Manually changing Nan in Age to mean values\n",
    "c1_s1_median = round(df_train.loc[(df_train['Survived']==1) & (df_train['Pclass']==1)]['Age'].median(), 0)\n",
    "c1_s0_median = round(df_train.loc[(df_train['Survived']==0) & (df_train['Pclass']==1)]['Age'].median(), 0)\n",
    "c2_s1_median = round(df_train.loc[(df_train['Survived']==1) & (df_train['Pclass']==2)]['Age'].median(), 0)\n",
    "c2_s0_median = round(df_train.loc[(df_train['Survived']==1) & (df_train['Pclass']==2)]['Age'].median(), 0)\n",
    "c3_s1_median = round(df_train.loc[(df_train['Survived']==1) & (df_train['Pclass']==3)]['Age'].median(), 0)\n",
    "c3_s0_median = round(df_train.loc[(df_train['Survived']==1) & (df_train['Pclass']==3)]['Age'].median(), 0)\n",
    "\n",
    "# Inserting the mean values in for the missing (Nan) values\n",
    "df_train.loc[(df_train['Survived'] == 1) & (df_train['Pclass']==1) & (df_train.Age.isna()), 'Age'] = c1_s1_median\n",
    "df_train.loc[(df_train['Survived'] == 0) & (df_train['Pclass']==1) & (df_train.Age.isna()), 'Age'] = c1_s0_median\n",
    "df_train.loc[(df_train['Survived'] == 1) & (df_train['Pclass']==2) & (df_train.Age.isna()), 'Age'] = c2_s1_median\n",
    "df_train.loc[(df_train['Survived'] == 0) & (df_train['Pclass']==2) & (df_train.Age.isna()), 'Age'] = c2_s0_median\n",
    "df_train.loc[(df_train['Survived'] == 1) & (df_train['Pclass']==3) & (df_train.Age.isna()), 'Age'] = c3_s1_median\n",
    "df_train.loc[(df_train['Survived'] == 0) & (df_train['Pclass']==3) & (df_train.Age.isna()), 'Age'] = c3_s0_median\n",
    "\n",
    "# Inserting the mean values DERIVED ONLY FROM TRAINING DATA into validation data\n",
    "df_val.loc[(df_val['Survived'] == 1) & (df_val['Pclass']==1) & (df_val.Age.isna()), 'Age'] = c1_s1_median\n",
    "df_val.loc[(df_val['Survived'] == 0) & (df_val['Pclass']==1) & (df_val.Age.isna()), 'Age'] = c1_s0_median\n",
    "df_val.loc[(df_val['Survived'] == 1) & (df_val['Pclass']==2) & (df_val.Age.isna()), 'Age'] = c2_s1_median\n",
    "df_val.loc[(df_val['Survived'] == 0) & (df_val['Pclass']==2) & (df_val.Age.isna()), 'Age'] = c2_s0_median\n",
    "df_val.loc[(df_val['Survived'] == 1) & (df_val['Pclass']==3) & (df_val.Age.isna()), 'Age'] = c3_s1_median\n",
    "df_val.loc[(df_val['Survived'] == 0) & (df_val['Pclass']==3) & (df_val.Age.isna()), 'Age'] = c3_s0_median"
   ]
  },
  {
   "cell_type": "markdown",
   "id": "3ea54023-f98e-4294-9a17-1d219217f6dc",
   "metadata": {},
   "source": [
    "* Change Cabins columns to numerical values"
   ]
  },
  {
   "cell_type": "code",
   "execution_count": 8,
   "id": "905d5b48-7309-4188-82cb-65861d039ac5",
   "metadata": {},
   "outputs": [],
   "source": [
    "# Creating a new column called Deck which correlates to the first letter in Cabin column\n",
    "# If the value in the column is null, it is replaced with M for Missing\n",
    "# Original code found here:\n",
    "# https://www.kaggle.com/code/gunesevitan/titanic-advanced-feature-engineering-tutorial#1.-Exploratory-Data-Analysis\n",
    "\n",
    "df_train['Deck'] = df_train['Cabin'].apply(lambda s: s[0] if pd.notnull(s) else 'M')\n",
    "\n",
    "# Grouping by decks and dropping columns to run into functions\n",
    "df_all_decks = df_train.groupby(['Deck', 'Pclass']).count().drop(columns=['Survived', 'Sex', 'Age', \n",
    "                                                                          'SibSp', 'Parch', 'Fare', \n",
    "                                                                          'Embarked', 'Cabin', 'PassengerId', \n",
    "                                                                          'Ticket']).rename(columns={'Name': 'Count'}).transpose()\n",
    "def get_pclass_dist(df):\n",
    "    \n",
    "    # Creating a dictionary for every passenger class count in every deck\n",
    "    deck_counts = {'A': {}, 'B': {}, 'C': {}, 'D': {}, 'E': {}, 'F': {}, 'G': {}, 'M': {}, 'T': {}}\n",
    "    decks = df.columns.levels[0]    \n",
    "\n",
    "    for deck in decks:\n",
    "        for pclass in range(1, 4):\n",
    "            try:\n",
    "                count = df[deck][pclass][0]\n",
    "                deck_counts[deck][pclass] = count \n",
    "            except KeyError:\n",
    "                deck_counts[deck][pclass] = 0\n",
    "                \n",
    "    df_decks = pd.DataFrame(deck_counts)    \n",
    "    deck_percentages = {}\n",
    "    \n",
    "    for col in df_decks.columns:\n",
    "        deck_percentages[col] = [(count / df_decks[col].sum()) * 100 for count in df_decks[col]]\n",
    "        \n",
    "    return deck_counts, deck_percentages\n",
    "\n",
    "all_deck_count, all_deck_per = get_pclass_dist(df_all_decks)\n",
    "\n",
    "idx = df_train[df_train['Deck'] == 'T'].index\n",
    "df_train.loc[idx, 'Deck'] = 'A'\n",
    "\n",
    "df_all_decks_survived = df_train.groupby(['Deck', 'Survived']).count().drop(columns=['Sex', 'Age', 'SibSp', \n",
    "                                                                                          'Parch', 'Fare', 'Embarked', \n",
    "                                                                                          'Pclass', 'Cabin', 'PassengerId', \n",
    "                                                                                          'Ticket']).rename(columns={'Name':'Count'}).transpose()\n",
    "\n",
    "df_train['Deck'] = df_train['Deck'].replace(['A', 'B', 'C'], '0')\n",
    "df_train['Deck'] = df_train['Deck'].replace(['D', 'E'], '1')\n",
    "df_train['Deck'] = df_train['Deck'].replace(['F', 'G'], '2')\n",
    "df_train['Deck'] = df_train['Deck'].replace(['M'], '3')\n",
    "\n",
    "df_train.drop(['Cabin'], inplace=True, axis=1)"
   ]
  },
  {
   "cell_type": "code",
   "execution_count": 9,
   "id": "9ebe7dd5-e47d-4d32-ac76-462c0584c488",
   "metadata": {},
   "outputs": [],
   "source": [
    "# Do the same for Validation\n",
    "df_val['Deck'] = df_val['Cabin'].apply(lambda s: s[0] if pd.notnull(s) else 'M')\n",
    "df_all_decks = df_val.groupby(['Deck', 'Pclass']).count().drop(columns=['Survived', 'Sex', 'Age', \n",
    "                                                                          'SibSp', 'Parch', 'Fare', \n",
    "                                                                          'Embarked', 'Cabin', 'PassengerId', \n",
    "                                                                          'Ticket']).rename(columns={'Name': 'Count'}).transpose()\n",
    "def get_pclass_dist(df):\n",
    "    \n",
    "    # Creating a dictionary for every passenger class count in every deck\n",
    "    deck_counts = {'A': {}, 'B': {}, 'C': {}, 'D': {}, 'E': {}, 'F': {}, 'G': {}, 'M': {}, 'T': {}}\n",
    "    decks = df.columns.levels[0]    \n",
    "    \n",
    "    for deck in decks:\n",
    "        for pclass in range(1, 4):\n",
    "            try:\n",
    "                count = df[deck][pclass][0]\n",
    "                deck_counts[deck][pclass] = count \n",
    "            except KeyError:\n",
    "                deck_counts[deck][pclass] = 0\n",
    "                \n",
    "    df_decks = pd.DataFrame(deck_counts)    \n",
    "    deck_percentages = {}\n",
    "    \n",
    "    for col in df_decks.columns:\n",
    "        deck_percentages[col] = [(count / df_decks[col].sum()) * 100 for count in df_decks[col]]\n",
    "        \n",
    "    return deck_counts, deck_percentages\n",
    "   \n",
    "\n",
    "all_deck_count, all_deck_per = get_pclass_dist(df_all_decks)\n",
    "\n",
    "idx = df_val[df_val['Deck'] == 'T'].index\n",
    "df_val.loc[idx, 'Deck'] = 'A'\n",
    "\n",
    "df_all_decks_survived = df_val.groupby(['Deck', 'Survived']).count().drop(columns=['Sex', 'Age', 'SibSp', \n",
    "                                                                                          'Parch', 'Fare', 'Embarked', \n",
    "                                                                                          'Pclass', 'Cabin', 'PassengerId', \n",
    "                                                                                          'Ticket']).rename(columns={'Name':'Count'}).transpose()\n",
    "\n",
    "df_val['Deck'] = df_val['Deck'].replace(['A', 'B', 'C'], '0')\n",
    "df_val['Deck'] = df_val['Deck'].replace(['D', 'E'], '1')\n",
    "df_val['Deck'] = df_val['Deck'].replace(['F', 'G'], '2')\n",
    "df_val['Deck'] = df_val['Deck'].replace(['M'], '3')\n",
    "\n",
    "df_val.drop(['Cabin'], inplace=True, axis=1)"
   ]
  },
  {
   "cell_type": "markdown",
   "id": "c7ebccdd-3e99-4470-83a2-3677782d9adc",
   "metadata": {},
   "source": [
    "# Using Scikit Learn's Random Forest"
   ]
  },
  {
   "cell_type": "code",
   "execution_count": 10,
   "id": "27fe73cf-aab7-4686-8005-ce586a00fcfc",
   "metadata": {},
   "outputs": [],
   "source": [
    "# Preparing subDataFrames to test how many variables could be best\n",
    "df_forest_3 = df_train[['Pclass', 'Fare', 'Age']]\n",
    "df_forest_4 = df_train[['Pclass', 'Fare', 'Age', 'Sex']]\n",
    "df_forest_5 = df_train[['Pclass', 'Fare', 'Age', 'Sex', 'Deck']]\n",
    "\n",
    "df_my_opinion_best_train = df_train[['Sex', 'Fare', 'Deck', 'Age']]"
   ]
  },
  {
   "cell_type": "code",
   "execution_count": 11,
   "id": "3585dc11-e639-4df4-96bc-71aed9b0c24c",
   "metadata": {
    "tags": []
   },
   "outputs": [],
   "source": [
    "df_forest_val_3 = df_val[['Pclass', 'Fare', 'Age']]\n",
    "df_forest_val_4 = df_val[['Pclass', 'Fare', 'Age', 'Sex']]\n",
    "df_forest_val_5 = df_val[['Pclass', 'Fare', 'Age', 'Sex', 'Deck']]\n",
    "\n",
    "df_my_opinion_best = df_val[['Sex', 'Fare', 'Deck', 'Age']]"
   ]
  },
  {
   "cell_type": "markdown",
   "id": "4343e03f-9b7e-44e0-9cea-1c6dde4c48df",
   "metadata": {},
   "source": [
    "#### Fitting to Train Data"
   ]
  },
  {
   "cell_type": "code",
   "execution_count": 12,
   "id": "376539a9-9aeb-4291-bfd6-f982de7fd952",
   "metadata": {},
   "outputs": [
    {
     "data": {
      "text/plain": [
       "0.765"
      ]
     },
     "execution_count": 12,
     "metadata": {},
     "output_type": "execute_result"
    }
   ],
   "source": [
    "rf3 = RandomForestClassifier(n_estimators=500, max_depth=5)\n",
    "rf3.fit(df_forest_3, y_train)\n",
    "round(rf3.score(df_forest_3, y_train),3)"
   ]
  },
  {
   "cell_type": "code",
   "execution_count": 13,
   "id": "5769ab8d-5799-41f2-91ba-ae6dce3bc7dc",
   "metadata": {},
   "outputs": [
    {
     "data": {
      "text/plain": [
       "0.917"
      ]
     },
     "execution_count": 13,
     "metadata": {},
     "output_type": "execute_result"
    }
   ],
   "source": [
    "rf4 = RandomForestClassifier(n_estimators=500, max_depth=8)\n",
    "rf4.fit(df_forest_4, y_train)\n",
    "round(rf4.score(df_forest_4, y_train),3)"
   ]
  },
  {
   "cell_type": "code",
   "execution_count": 14,
   "id": "f86aaf28-18c3-46d1-b55b-fe1fdeaa9a4e",
   "metadata": {},
   "outputs": [
    {
     "data": {
      "text/plain": [
       "0.916"
      ]
     },
     "execution_count": 14,
     "metadata": {},
     "output_type": "execute_result"
    }
   ],
   "source": [
    "rf5 = RandomForestClassifier(n_estimators=500, max_depth=8)\n",
    "rf5.fit(df_forest_5, y_train)\n",
    "round(rf5.score(df_forest_5, y_train),3)"
   ]
  },
  {
   "cell_type": "code",
   "execution_count": 15,
   "id": "c0a3d457-0e13-4740-9e68-a7b3801fac0d",
   "metadata": {},
   "outputs": [
    {
     "data": {
      "text/plain": [
       "0.892"
      ]
     },
     "execution_count": 15,
     "metadata": {},
     "output_type": "execute_result"
    }
   ],
   "source": [
    "rf_guess = RandomForestClassifier(n_estimators=500, max_depth=8)\n",
    "rf_guess.fit(df_my_opinion_best_train, y_train)\n",
    "round(rf_guess.score(df_my_opinion_best_train, y_train),3)"
   ]
  },
  {
   "cell_type": "markdown",
   "id": "22592c0e-8079-468b-9401-0b7b1ce64c67",
   "metadata": {},
   "source": [
    "#### Testing vs. Validation Data"
   ]
  },
  {
   "cell_type": "code",
   "execution_count": 16,
   "id": "353d2aa7-24ca-43fa-bc43-2b42ce85a87a",
   "metadata": {},
   "outputs": [
    {
     "name": "stdout",
     "output_type": "stream",
     "text": [
      "[0.2431923  0.43622257 0.32058513]\n",
      "0.804\n"
     ]
    }
   ],
   "source": [
    "# 'Pclass', 'Fare', 'Age'\n",
    "print(rf3.feature_importances_)\n",
    "print(round(rf3.score(df_forest_val_3, y_val),3))"
   ]
  },
  {
   "cell_type": "code",
   "execution_count": 17,
   "id": "ca72e7bb-1e44-4463-8345-024f0bdadfc2",
   "metadata": {},
   "outputs": [
    {
     "name": "stdout",
     "output_type": "stream",
     "text": [
      "[0.12532597 0.2745916  0.25133873 0.3487437 ]\n",
      "0.888\n"
     ]
    }
   ],
   "source": [
    "# 'Pclass', 'Fare', 'Age', 'Sex'\n",
    "print(rf4.feature_importances_)\n",
    "print(round(rf4.score(df_forest_val_4, y_val),3))"
   ]
  },
  {
   "cell_type": "code",
   "execution_count": 18,
   "id": "681152ba-d7df-4e15-a477-d83150558b2a",
   "metadata": {},
   "outputs": [
    {
     "name": "stdout",
     "output_type": "stream",
     "text": [
      "[0.10569612 0.24578774 0.22872073 0.34968751 0.0701079 ]\n",
      "0.872\n"
     ]
    }
   ],
   "source": [
    "# 'Pclass', 'Fare', 'Age', 'Sex', 'Deck'\n",
    "print(rf5.feature_importances_)\n",
    "print(round(rf5.score(df_forest_val_5, y_val),3))"
   ]
  },
  {
   "cell_type": "code",
   "execution_count": 19,
   "id": "7301e0c7-5dc6-4fcb-a06f-cce7a2accee3",
   "metadata": {},
   "outputs": [
    {
     "name": "stdout",
     "output_type": "stream",
     "text": [
      "[0.37266436 0.28999388 0.09774374 0.23959802]\n",
      "0.86\n"
     ]
    }
   ],
   "source": [
    "# 'Sex', 'Fare', 'Deck', 'Age'\n",
    "print(rf_guess.feature_importances_)\n",
    "print(round(rf_guess.score(df_my_opinion_best, y_val),3))"
   ]
  },
  {
   "cell_type": "code",
   "execution_count": 20,
   "id": "0fb80d4d-3cfa-4f75-8bbb-db42d850749f",
   "metadata": {},
   "outputs": [
    {
     "data": {
      "text/plain": [
       "<AxesSubplot: >"
      ]
     },
     "execution_count": 20,
     "metadata": {},
     "output_type": "execute_result"
    },
    {
     "data": {
      "image/png": "[encoded data removed]",
      "text/plain": [
       "<Figure size 640x480 with 1 Axes>"
      ]
     },
     "metadata": {},
     "output_type": "display_data"
    }
   ],
   "source": [
    "pd.DataFrame([rf5.feature_importances_], columns=['Pclass', 'Fare', 'Age', 'Sex', 'Deck']).plot.bar()"
   ]
  },
  {
   "cell_type": "markdown",
   "id": "9dc521f1-0542-424b-a9c2-921d816ba076",
   "metadata": {},
   "source": [
    "# Going through the steps with the test data"
   ]
  },
  {
   "cell_type": "markdown",
   "id": "a762108c-6609-4c16-88e1-99bea0854249",
   "metadata": {},
   "source": [
    "### Steps\n",
    "\n",
    "* Replace Sex with numbers\n",
    "* Replace Nan Ages with median values\n",
    "* Replace Cabin with Deck numbers\n",
    "* Fill Nan Fare Values with median for each class\n",
    "* Create DataFrame using modified columns [['Sex', 'Fare', 'Deck', 'Age']]\n",
    "* Create tests using RandomTree knowledge"
   ]
  },
  {
   "cell_type": "code",
   "execution_count": 21,
   "id": "1153dddf-90f9-4fe1-bf32-6ade8a499e75",
   "metadata": {},
   "outputs": [
    {
     "data": {
      "text/plain": [
       "(35.0, 44.0, 28.0, 28.0, 22.0, 22.0)"
      ]
     },
     "execution_count": 21,
     "metadata": {},
     "output_type": "execute_result"
    }
   ],
   "source": [
    "# Find medians to use\n",
    "c1_s1_median, c1_s0_median, c2_s1_median, c2_s0_median, c3_s1_median, c3_s0_median"
   ]
  },
  {
   "cell_type": "code",
   "execution_count": 22,
   "id": "c5db533c-086b-4e2e-a0f8-91adbbdfc3d0",
   "metadata": {},
   "outputs": [],
   "source": [
    "# Define new Median/Avg to use\n",
    "c1_median_avg = (35+44)/2"
   ]
  },
  {
   "cell_type": "code",
   "execution_count": 23,
   "id": "c54f4e3b-f237-45cb-b9ba-6b5c6d052dbc",
   "metadata": {},
   "outputs": [],
   "source": [
    "# Replace Sex\n",
    "test['Sex'] = test['Sex'].replace({'male' : 1, 'female': 0})\n",
    "test['Sex'] = test['Sex'].astype(int)"
   ]
  },
  {
   "cell_type": "code",
   "execution_count": 24,
   "id": "7020f5b1-f7e0-4909-bb57-49aa93e26eed",
   "metadata": {},
   "outputs": [],
   "source": [
    "# Fill in Nan Ages\n",
    "test.loc[(test['Pclass']==1) & (test.Age.isna()), 'Age'] = c1_median_avg\n",
    "test.loc[(test['Pclass']==2) & (test.Age.isna()), 'Age'] = c2_s1_median\n",
    "test.loc[(test['Pclass']==3) & (test.Age.isna()), 'Age'] = c3_s1_median"
   ]
  },
  {
   "cell_type": "code",
   "execution_count": 25,
   "id": "df575e78-353f-4107-8c67-0ceaab337ee4",
   "metadata": {},
   "outputs": [],
   "source": [
    "# Change Cabin to Deck\n",
    "test['Deck'] = test['Cabin'].apply(lambda s: s[0] if pd.notnull(s) else 'M')\n",
    "df_all_decks = test.groupby(['Deck', 'Pclass']).count().drop(columns=['Sex', 'Age', \n",
    "                                                                      'SibSp', 'Parch', 'Fare', \n",
    "                                                                      'Embarked', 'Cabin', 'PassengerId', \n",
    "                                                                      'Ticket']).rename(columns={'Name': 'Count'}).transpose()\n",
    "def get_pclass_dist(df):\n",
    "    \n",
    "    # Creating a dictionary for every passenger class count in every deck\n",
    "    deck_counts = {'A': {}, 'B': {}, 'C': {}, 'D': {}, 'E': {}, 'F': {}, 'G': {}, 'M': {}, 'T': {}}\n",
    "    decks = df.columns.levels[0]    \n",
    "    \n",
    "    for deck in decks:\n",
    "        for pclass in range(1, 4):\n",
    "            try:\n",
    "                count = df[deck][pclass][0]\n",
    "                deck_counts[deck][pclass] = count \n",
    "            except KeyError:\n",
    "                deck_counts[deck][pclass] = 0\n",
    "                \n",
    "    df_decks = pd.DataFrame(deck_counts)    \n",
    "    deck_percentages = {}\n",
    "    \n",
    "    for col in df_decks.columns:\n",
    "        deck_percentages[col] = [(count / df_decks[col].sum()) * 100 for count in df_decks[col]]\n",
    "        \n",
    "    return deck_counts, deck_percentages\n",
    "   \n",
    "\n",
    "all_deck_count, all_deck_per = get_pclass_dist(df_all_decks)\n",
    "\n",
    "idx = test[test['Deck'] == 'T'].index\n",
    "test.loc[idx, 'Deck'] = 'A'\n",
    "\n",
    "df_all_decks_survived = test.groupby(['Deck']).count().drop(columns=['Sex', 'Age', 'SibSp', \n",
    "                                                                                 'Parch', 'Fare', 'Embarked', \n",
    "                                                                                 'Pclass', 'Cabin', 'PassengerId', \n",
    "                                                                                 'Ticket']).rename(columns={'Name':'Count'}).transpose()\n",
    "\n",
    "test['Deck'] = test['Deck'].replace(['A', 'B', 'C'], '0')\n",
    "test['Deck'] = test['Deck'].replace(['D', 'E'], '1')\n",
    "test['Deck'] = test['Deck'].replace(['F', 'G'], '2')\n",
    "test['Deck'] = test['Deck'].replace(['M'], '3')\n",
    "\n",
    "test.drop(['Cabin'], inplace=True, axis=1)"
   ]
  },
  {
   "cell_type": "code",
   "execution_count": 26,
   "id": "d62a0ccc-bc8e-4426-bfaa-51afb7ce2231",
   "metadata": {},
   "outputs": [],
   "source": [
    "# Filling Nan Fare\n",
    "c1_fare_median = round(df_train.loc[(df_train['Pclass']==1)]['Fare'].median(), 0)\n",
    "c2_fare_median = round(df_train.loc[(df_train['Pclass']==2)]['Fare'].median(), 0)\n",
    "c3_fare_median = round(df_train.loc[(df_train['Pclass']==3)]['Fare'].median(), 0)\n",
    "\n",
    "test.loc[(test['Pclass']==1) & (test.Fare.isna()), 'Fare'] = c1_fare_median\n",
    "test.loc[(test['Pclass']==2) & (test.Fare.isna()), 'Fare'] = c2_fare_median\n",
    "test.loc[(test['Pclass']==3) & (test.Fare.isna()), 'Fare'] = c3_fare_median"
   ]
  },
  {
   "cell_type": "code",
   "execution_count": 27,
   "id": "a04f4ab6-aedd-46ab-be8e-eea48377b085",
   "metadata": {},
   "outputs": [],
   "source": [
    "test_3 = test[['Pclass', 'Fare', 'Age']]\n",
    "test_4 = test[['Pclass', 'Fare', 'Age', 'Sex']]\n",
    "test_5 = test[['Pclass', 'Fare', 'Age', 'Sex', 'Deck']]\n",
    "\n",
    "my_test = test[['Sex', 'Fare', 'Deck', 'Age']]"
   ]
  },
  {
   "cell_type": "code",
   "execution_count": 28,
   "id": "47f5d41d-1f23-41a6-9018-4435e201370c",
   "metadata": {},
   "outputs": [
    {
     "data": {
      "text/html": [
       "<div>\n",
       "<style scoped>\n",
       "    .dataframe tbody tr th:only-of-type {\n",
       "        vertical-align: middle;\n",
       "    }\n",
       "\n",
       "    .dataframe tbody tr th {\n",
       "        vertical-align: top;\n",
       "    }\n",
       "\n",
       "    .dataframe thead th {\n",
       "        text-align: right;\n",
       "    }\n",
       "</style>\n",
       "<table border=\"1\" class=\"dataframe\">\n",
       "  <thead>\n",
       "    <tr style=\"text-align: right;\">\n",
       "      <th></th>\n",
       "      <th>0</th>\n",
       "    </tr>\n",
       "  </thead>\n",
       "  <tbody>\n",
       "    <tr>\n",
       "      <th>0</th>\n",
       "      <td>0</td>\n",
       "    </tr>\n",
       "    <tr>\n",
       "      <th>1</th>\n",
       "      <td>0</td>\n",
       "    </tr>\n",
       "    <tr>\n",
       "      <th>2</th>\n",
       "      <td>0</td>\n",
       "    </tr>\n",
       "    <tr>\n",
       "      <th>3</th>\n",
       "      <td>0</td>\n",
       "    </tr>\n",
       "    <tr>\n",
       "      <th>4</th>\n",
       "      <td>0</td>\n",
       "    </tr>\n",
       "    <tr>\n",
       "      <th>...</th>\n",
       "      <td>...</td>\n",
       "    </tr>\n",
       "    <tr>\n",
       "      <th>413</th>\n",
       "      <td>0</td>\n",
       "    </tr>\n",
       "    <tr>\n",
       "      <th>414</th>\n",
       "      <td>1</td>\n",
       "    </tr>\n",
       "    <tr>\n",
       "      <th>415</th>\n",
       "      <td>0</td>\n",
       "    </tr>\n",
       "    <tr>\n",
       "      <th>416</th>\n",
       "      <td>0</td>\n",
       "    </tr>\n",
       "    <tr>\n",
       "      <th>417</th>\n",
       "      <td>0</td>\n",
       "    </tr>\n",
       "  </tbody>\n",
       "</table>\n",
       "<p>418 rows × 1 columns</p>\n",
       "</div>"
      ],
      "text/plain": [
       "     0\n",
       "0    0\n",
       "1    0\n",
       "2    0\n",
       "3    0\n",
       "4    0\n",
       "..  ..\n",
       "413  0\n",
       "414  1\n",
       "415  0\n",
       "416  0\n",
       "417  0\n",
       "\n",
       "[418 rows x 1 columns]"
      ]
     },
     "execution_count": 28,
     "metadata": {},
     "output_type": "execute_result"
    }
   ],
   "source": [
    "test3_pred = pd.DataFrame(rf3.predict(test_3))\n",
    "test3_pred"
   ]
  },
  {
   "cell_type": "code",
   "execution_count": 29,
   "id": "dc988419-bfd3-4f6d-a844-ca1de068f296",
   "metadata": {},
   "outputs": [
    {
     "data": {
      "text/html": [
       "<div>\n",
       "<style scoped>\n",
       "    .dataframe tbody tr th:only-of-type {\n",
       "        vertical-align: middle;\n",
       "    }\n",
       "\n",
       "    .dataframe tbody tr th {\n",
       "        vertical-align: top;\n",
       "    }\n",
       "\n",
       "    .dataframe thead th {\n",
       "        text-align: right;\n",
       "    }\n",
       "</style>\n",
       "<table border=\"1\" class=\"dataframe\">\n",
       "  <thead>\n",
       "    <tr style=\"text-align: right;\">\n",
       "      <th></th>\n",
       "      <th>0</th>\n",
       "    </tr>\n",
       "  </thead>\n",
       "  <tbody>\n",
       "    <tr>\n",
       "      <th>0</th>\n",
       "      <td>0</td>\n",
       "    </tr>\n",
       "    <tr>\n",
       "      <th>1</th>\n",
       "      <td>0</td>\n",
       "    </tr>\n",
       "    <tr>\n",
       "      <th>2</th>\n",
       "      <td>0</td>\n",
       "    </tr>\n",
       "    <tr>\n",
       "      <th>3</th>\n",
       "      <td>0</td>\n",
       "    </tr>\n",
       "    <tr>\n",
       "      <th>4</th>\n",
       "      <td>1</td>\n",
       "    </tr>\n",
       "    <tr>\n",
       "      <th>...</th>\n",
       "      <td>...</td>\n",
       "    </tr>\n",
       "    <tr>\n",
       "      <th>413</th>\n",
       "      <td>0</td>\n",
       "    </tr>\n",
       "    <tr>\n",
       "      <th>414</th>\n",
       "      <td>1</td>\n",
       "    </tr>\n",
       "    <tr>\n",
       "      <th>415</th>\n",
       "      <td>0</td>\n",
       "    </tr>\n",
       "    <tr>\n",
       "      <th>416</th>\n",
       "      <td>0</td>\n",
       "    </tr>\n",
       "    <tr>\n",
       "      <th>417</th>\n",
       "      <td>0</td>\n",
       "    </tr>\n",
       "  </tbody>\n",
       "</table>\n",
       "<p>418 rows × 1 columns</p>\n",
       "</div>"
      ],
      "text/plain": [
       "     0\n",
       "0    0\n",
       "1    0\n",
       "2    0\n",
       "3    0\n",
       "4    1\n",
       "..  ..\n",
       "413  0\n",
       "414  1\n",
       "415  0\n",
       "416  0\n",
       "417  0\n",
       "\n",
       "[418 rows x 1 columns]"
      ]
     },
     "execution_count": 29,
     "metadata": {},
     "output_type": "execute_result"
    }
   ],
   "source": [
    "test4_pred = pd.DataFrame(rf4.predict(test_4))\n",
    "test4_pred"
   ]
  },
  {
   "cell_type": "code",
   "execution_count": 30,
   "id": "88dc2338-3cb8-491b-b0ad-f18135e73aa3",
   "metadata": {},
   "outputs": [
    {
     "data": {
      "text/html": [
       "<div>\n",
       "<style scoped>\n",
       "    .dataframe tbody tr th:only-of-type {\n",
       "        vertical-align: middle;\n",
       "    }\n",
       "\n",
       "    .dataframe tbody tr th {\n",
       "        vertical-align: top;\n",
       "    }\n",
       "\n",
       "    .dataframe thead th {\n",
       "        text-align: right;\n",
       "    }\n",
       "</style>\n",
       "<table border=\"1\" class=\"dataframe\">\n",
       "  <thead>\n",
       "    <tr style=\"text-align: right;\">\n",
       "      <th></th>\n",
       "      <th>0</th>\n",
       "    </tr>\n",
       "  </thead>\n",
       "  <tbody>\n",
       "    <tr>\n",
       "      <th>0</th>\n",
       "      <td>0</td>\n",
       "    </tr>\n",
       "    <tr>\n",
       "      <th>1</th>\n",
       "      <td>0</td>\n",
       "    </tr>\n",
       "    <tr>\n",
       "      <th>2</th>\n",
       "      <td>0</td>\n",
       "    </tr>\n",
       "    <tr>\n",
       "      <th>3</th>\n",
       "      <td>0</td>\n",
       "    </tr>\n",
       "    <tr>\n",
       "      <th>4</th>\n",
       "      <td>1</td>\n",
       "    </tr>\n",
       "    <tr>\n",
       "      <th>...</th>\n",
       "      <td>...</td>\n",
       "    </tr>\n",
       "    <tr>\n",
       "      <th>413</th>\n",
       "      <td>0</td>\n",
       "    </tr>\n",
       "    <tr>\n",
       "      <th>414</th>\n",
       "      <td>1</td>\n",
       "    </tr>\n",
       "    <tr>\n",
       "      <th>415</th>\n",
       "      <td>0</td>\n",
       "    </tr>\n",
       "    <tr>\n",
       "      <th>416</th>\n",
       "      <td>0</td>\n",
       "    </tr>\n",
       "    <tr>\n",
       "      <th>417</th>\n",
       "      <td>0</td>\n",
       "    </tr>\n",
       "  </tbody>\n",
       "</table>\n",
       "<p>418 rows × 1 columns</p>\n",
       "</div>"
      ],
      "text/plain": [
       "     0\n",
       "0    0\n",
       "1    0\n",
       "2    0\n",
       "3    0\n",
       "4    1\n",
       "..  ..\n",
       "413  0\n",
       "414  1\n",
       "415  0\n",
       "416  0\n",
       "417  0\n",
       "\n",
       "[418 rows x 1 columns]"
      ]
     },
     "execution_count": 30,
     "metadata": {},
     "output_type": "execute_result"
    }
   ],
   "source": [
    "test5_pred = pd.DataFrame(rf5.predict(test_5))\n",
    "test5_pred"
   ]
  },
  {
   "cell_type": "code",
   "execution_count": 31,
   "id": "723f7a4c-120d-461e-a19b-a5db0b46333b",
   "metadata": {},
   "outputs": [
    {
     "data": {
      "text/html": [
       "<div>\n",
       "<style scoped>\n",
       "    .dataframe tbody tr th:only-of-type {\n",
       "        vertical-align: middle;\n",
       "    }\n",
       "\n",
       "    .dataframe tbody tr th {\n",
       "        vertical-align: top;\n",
       "    }\n",
       "\n",
       "    .dataframe thead th {\n",
       "        text-align: right;\n",
       "    }\n",
       "</style>\n",
       "<table border=\"1\" class=\"dataframe\">\n",
       "  <thead>\n",
       "    <tr style=\"text-align: right;\">\n",
       "      <th></th>\n",
       "      <th>0</th>\n",
       "    </tr>\n",
       "  </thead>\n",
       "  <tbody>\n",
       "    <tr>\n",
       "      <th>0</th>\n",
       "      <td>0</td>\n",
       "    </tr>\n",
       "    <tr>\n",
       "      <th>1</th>\n",
       "      <td>0</td>\n",
       "    </tr>\n",
       "    <tr>\n",
       "      <th>2</th>\n",
       "      <td>0</td>\n",
       "    </tr>\n",
       "    <tr>\n",
       "      <th>3</th>\n",
       "      <td>0</td>\n",
       "    </tr>\n",
       "    <tr>\n",
       "      <th>4</th>\n",
       "      <td>1</td>\n",
       "    </tr>\n",
       "    <tr>\n",
       "      <th>...</th>\n",
       "      <td>...</td>\n",
       "    </tr>\n",
       "    <tr>\n",
       "      <th>413</th>\n",
       "      <td>0</td>\n",
       "    </tr>\n",
       "    <tr>\n",
       "      <th>414</th>\n",
       "      <td>1</td>\n",
       "    </tr>\n",
       "    <tr>\n",
       "      <th>415</th>\n",
       "      <td>0</td>\n",
       "    </tr>\n",
       "    <tr>\n",
       "      <th>416</th>\n",
       "      <td>0</td>\n",
       "    </tr>\n",
       "    <tr>\n",
       "      <th>417</th>\n",
       "      <td>0</td>\n",
       "    </tr>\n",
       "  </tbody>\n",
       "</table>\n",
       "<p>418 rows × 1 columns</p>\n",
       "</div>"
      ],
      "text/plain": [
       "     0\n",
       "0    0\n",
       "1    0\n",
       "2    0\n",
       "3    0\n",
       "4    1\n",
       "..  ..\n",
       "413  0\n",
       "414  1\n",
       "415  0\n",
       "416  0\n",
       "417  0\n",
       "\n",
       "[418 rows x 1 columns]"
      ]
     },
     "execution_count": 31,
     "metadata": {},
     "output_type": "execute_result"
    }
   ],
   "source": [
    "my_test_pred = pd.DataFrame(rf_guess.predict(my_test))\n",
    "my_test_pred"
   ]
  },
  {
   "cell_type": "code",
   "execution_count": null,
   "id": "0c10ade7-66e4-456d-bb8c-c4403c960c8d",
   "metadata": {},
   "outputs": [],
   "source": []
  }
 ],
 "metadata": {
  "kernelspec": {
   "display_name": "Python 3 (ipykernel)",
   "language": "python",
   "name": "python3"
  },
  "language_info": {
   "codemirror_mode": {
    "name": "ipython",
    "version": 3
   },
   "file_extension": ".py",
   "mimetype": "text/x-python",
   "name": "python",
   "nbconvert_exporter": "python",
   "pygments_lexer": "ipython3",
   "version": "3.10.9"
  }
 },
 "nbformat": 4,
 "nbformat_minor": 5
}
