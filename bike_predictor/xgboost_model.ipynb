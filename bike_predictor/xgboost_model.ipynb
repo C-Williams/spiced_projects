{
 "cells": [
  {
   "cell_type": "code",
   "execution_count": 1,
   "id": "f74fc188-bc9b-43c4-b7db-96b3022cd637",
   "metadata": {},
   "outputs": [],
   "source": [
    "import pandas as pd\n",
    "import numpy as np\n",
    "\n",
    "from sklearn.model_selection import (train_test_split,\n",
    "                                     GridSearchCV)\n",
    "from sklearn import metrics\n",
    "\n",
    "from sklearn.metrics import (mean_squared_error,\n",
    "                             mean_squared_log_error,\n",
    "                             make_scorer)\n",
    "\n",
    "import xgboost as xgb"
   ]
  },
  {
   "cell_type": "code",
   "execution_count": 2,
   "id": "ab00f12f-4243-461b-844b-40b1c295cd34",
   "metadata": {},
   "outputs": [],
   "source": [
    "train = pd.read_csv('../data/train.csv')\n",
    "test = pd.read_csv('../data/test.csv')"
   ]
  },
  {
   "cell_type": "code",
   "execution_count": 3,
   "id": "997c02f1-539c-4396-bb96-23ecbba22262",
   "metadata": {},
   "outputs": [],
   "source": [
    "def create_datetime(df):\n",
    "    df['datetime'] = pd.to_datetime(df['datetime'])\n",
    "    df['year'] = df['datetime'].dt.year\n",
    "    df['hour'] = df['datetime'].dt.hour\n",
    "    df['weekday'] = df['datetime'].dt.weekday\n",
    "    \n",
    "create_datetime(train)\n",
    "create_datetime(test)\n",
    "\n",
    "# Creating a column to append to final predicitons\n",
    "date_time = test['datetime']"
   ]
  },
  {
   "cell_type": "code",
   "execution_count": 4,
   "id": "e79f0f74-e6f1-4a6a-8387-f9040fc4241b",
   "metadata": {},
   "outputs": [],
   "source": [
    "# Input from https://www.kaggle.com/code/guosue/top-1-bike-sharing-detailed-eda-xgboost\n",
    "def delete_outliers(data, df):\n",
    "    mean = np.mean(data)\n",
    "    std = np.std(data)\n",
    "    outliers=np.abs(data-mean) > (3*std)\n",
    "    df.drop(index=data[outliers].index, inplace=True)\n",
    "    \n",
    "delete_outliers(train['count'], train)"
   ]
  },
  {
   "cell_type": "code",
   "execution_count": 5,
   "id": "3bf6f205-f84b-45f8-801d-423094ce62a5",
   "metadata": {},
   "outputs": [],
   "source": [
    "# Find Standard deviation for later use\n",
    "std_count = train['count'].std()"
   ]
  },
  {
   "cell_type": "code",
   "execution_count": 6,
   "id": "4dc7f875-af91-4fef-ad07-a7e72d420304",
   "metadata": {},
   "outputs": [],
   "source": [
    "# Transform y into Log form for prediction\n",
    "y = train['count'].apply(lambda x: np.log1p(x)).values"
   ]
  },
  {
   "cell_type": "code",
   "execution_count": 8,
   "id": "5b0c5787-eb3a-4bf0-a2e6-dba55f0a84c8",
   "metadata": {},
   "outputs": [],
   "source": [
    "# Establishing which columns to drop &/or keep\n",
    "drop_cols = ['atemp', 'count', 'datetime']\n",
    "test_cols = ['atemp', 'datetime']\n",
    "train.drop(drop_cols, axis=1, inplace=True)\n",
    "test.drop(test_cols, axis=1, inplace=True)"
   ]
  },
  {
   "cell_type": "code",
   "execution_count": 9,
   "id": "cb001445-4430-4752-abe3-736fa74e2480",
   "metadata": {},
   "outputs": [
    {
     "data": {
      "text/plain": [
       "(Index(['season', 'holiday', 'workingday', 'weather', 'temp', 'humidity',\n",
       "        'windspeed', 'casual', 'registered', 'year', 'hour', 'weekday'],\n",
       "       dtype='object'),\n",
       " Index(['season', 'holiday', 'workingday', 'weather', 'temp', 'humidity',\n",
       "        'windspeed', 'year', 'hour', 'weekday'],\n",
       "       dtype='object'))"
      ]
     },
     "execution_count": 9,
     "metadata": {},
     "output_type": "execute_result"
    }
   ],
   "source": [
    "train.columns, test.columns"
   ]
  },
  {
   "cell_type": "markdown",
   "id": "eb24ae76-506f-46bc-bdf8-f1ae2a5560f4",
   "metadata": {},
   "source": [
    "## Split Data"
   ]
  },
  {
   "cell_type": "code",
   "execution_count": 8,
   "id": "33048445-96ba-4e28-b315-1370097a8ea1",
   "metadata": {},
   "outputs": [],
   "source": [
    "X_train, X_val, y_train, y_val = train_test_split(train, y, test_size=0.2, random_state = 42)"
   ]
  },
  {
   "cell_type": "code",
   "execution_count": 9,
   "id": "b5fc87cb-cf91-4499-846c-cbb69433da85",
   "metadata": {},
   "outputs": [
    {
     "data": {
      "text/plain": [
       "((8591, 12), (2148, 12), (8591,), (2148,))"
      ]
     },
     "execution_count": 9,
     "metadata": {},
     "output_type": "execute_result"
    }
   ],
   "source": [
    "X_train.shape, X_val.shape, y_train.shape, y_val.shape"
   ]
  },
  {
   "cell_type": "markdown",
   "id": "73912a48-699c-4a30-9dd3-49583389d696",
   "metadata": {},
   "source": [
    "## Split y_train and y_val into casual and registered riders"
   ]
  },
  {
   "cell_type": "code",
   "execution_count": 10,
   "id": "8142fe0e-f96e-4be6-a962-c42f6aacf249",
   "metadata": {},
   "outputs": [
    {
     "data": {
      "text/plain": [
       "((8591,), (2148,))"
      ]
     },
     "execution_count": 10,
     "metadata": {},
     "output_type": "execute_result"
    }
   ],
   "source": [
    "# Idea posited by https://www.kaggle.com/code/guosue/top-1-bike-sharing-detailed-eda-xgboost\n",
    "y_train_cas = X_train['casual'].apply(lambda x: np.log1p(x)).values\n",
    "y_train_reg = X_train['registered'].apply(lambda x: np.log1p(x)).values\n",
    "\n",
    "y_val_cas = X_val['casual'].apply(lambda x: np.log1p(x)).values\n",
    "y_val_reg = X_val['registered'].apply(lambda x: np.log1p(x)).values\n",
    "\n",
    "y_train_cas.shape, y_val_cas.shape"
   ]
  },
  {
   "cell_type": "code",
   "execution_count": 11,
   "id": "b63f580a-14bb-4877-873d-8c09ef07807a",
   "metadata": {},
   "outputs": [],
   "source": [
    "X_train.drop(['casual', 'registered'], axis=1, inplace=True)\n",
    "X_val.drop(['casual', 'registered'], axis=1, inplace=True)"
   ]
  },
  {
   "cell_type": "code",
   "execution_count": 12,
   "id": "4bf7cd20-db56-47a8-9eb6-862b14abc6c8",
   "metadata": {},
   "outputs": [],
   "source": [
    "#trans_X_DF = pd.DataFrame(data=X_train)\n",
    "#data_dmatrix = xgb.DMatrix(data=trans_X_DF,label=trans_X_DF.iloc[:,-1])"
   ]
  },
  {
   "cell_type": "code",
   "execution_count": 102,
   "id": "dbaeb0b9-fe36-426d-91db-fdb925a0c790",
   "metadata": {},
   "outputs": [],
   "source": [
    "# Parameters set by me\n",
    "xgb_cas = xgb.XGBRegressor(random_state=42,\n",
    "                           n_estimators=500, \n",
    "                           max_depth=4, \n",
    "                           learning_rate=0.1)"
   ]
  },
  {
   "cell_type": "code",
   "execution_count": 103,
   "id": "c97e71f2-f67e-4e50-91ee-13793c970751",
   "metadata": {},
   "outputs": [],
   "source": [
    "xgb_reg = xgb.XGBRegressor(random_state=42, \n",
    "                           n_estimators=500, \n",
    "                           max_depth=4, \n",
    "                           learning_rate=0.1)"
   ]
  },
  {
   "cell_type": "code",
   "execution_count": 104,
   "id": "701a16df-99e2-49da-940e-2f0dab6a4d36",
   "metadata": {},
   "outputs": [
    {
     "data": {
      "text/html": [
       "<style>#sk-container-id-19 {color: black;background-color: white;}#sk-container-id-19 pre{padding: 0;}#sk-container-id-19 div.sk-toggleable {background-color: white;}#sk-container-id-19 label.sk-toggleable__label {cursor: pointer;display: block;width: 100%;margin-bottom: 0;padding: 0.3em;box-sizing: border-box;text-align: center;}#sk-container-id-19 label.sk-toggleable__label-arrow:before {content: \"▸\";float: left;margin-right: 0.25em;color: #696969;}#sk-container-id-19 label.sk-toggleable__label-arrow:hover:before {color: black;}#sk-container-id-19 div.sk-estimator:hover label.sk-toggleable__label-arrow:before {color: black;}#sk-container-id-19 div.sk-toggleable__content {max-height: 0;max-width: 0;overflow: hidden;text-align: left;background-color: #f0f8ff;}#sk-container-id-19 div.sk-toggleable__content pre {margin: 0.2em;color: black;border-radius: 0.25em;background-color: #f0f8ff;}#sk-container-id-19 input.sk-toggleable__control:checked~div.sk-toggleable__content {max-height: 200px;max-width: 100%;overflow: auto;}#sk-container-id-19 input.sk-toggleable__control:checked~label.sk-toggleable__label-arrow:before {content: \"▾\";}#sk-container-id-19 div.sk-estimator input.sk-toggleable__control:checked~label.sk-toggleable__label {background-color: #d4ebff;}#sk-container-id-19 div.sk-label input.sk-toggleable__control:checked~label.sk-toggleable__label {background-color: #d4ebff;}#sk-container-id-19 input.sk-hidden--visually {border: 0;clip: rect(1px 1px 1px 1px);clip: rect(1px, 1px, 1px, 1px);height: 1px;margin: -1px;overflow: hidden;padding: 0;position: absolute;width: 1px;}#sk-container-id-19 div.sk-estimator {font-family: monospace;background-color: #f0f8ff;border: 1px dotted black;border-radius: 0.25em;box-sizing: border-box;margin-bottom: 0.5em;}#sk-container-id-19 div.sk-estimator:hover {background-color: #d4ebff;}#sk-container-id-19 div.sk-parallel-item::after {content: \"\";width: 100%;border-bottom: 1px solid gray;flex-grow: 1;}#sk-container-id-19 div.sk-label:hover label.sk-toggleable__label {background-color: #d4ebff;}#sk-container-id-19 div.sk-serial::before {content: \"\";position: absolute;border-left: 1px solid gray;box-sizing: border-box;top: 0;bottom: 0;left: 50%;z-index: 0;}#sk-container-id-19 div.sk-serial {display: flex;flex-direction: column;align-items: center;background-color: white;padding-right: 0.2em;padding-left: 0.2em;position: relative;}#sk-container-id-19 div.sk-item {position: relative;z-index: 1;}#sk-container-id-19 div.sk-parallel {display: flex;align-items: stretch;justify-content: center;background-color: white;position: relative;}#sk-container-id-19 div.sk-item::before, #sk-container-id-19 div.sk-parallel-item::before {content: \"\";position: absolute;border-left: 1px solid gray;box-sizing: border-box;top: 0;bottom: 0;left: 50%;z-index: -1;}#sk-container-id-19 div.sk-parallel-item {display: flex;flex-direction: column;z-index: 1;position: relative;background-color: white;}#sk-container-id-19 div.sk-parallel-item:first-child::after {align-self: flex-end;width: 50%;}#sk-container-id-19 div.sk-parallel-item:last-child::after {align-self: flex-start;width: 50%;}#sk-container-id-19 div.sk-parallel-item:only-child::after {width: 0;}#sk-container-id-19 div.sk-dashed-wrapped {border: 1px dashed gray;margin: 0 0.4em 0.5em 0.4em;box-sizing: border-box;padding-bottom: 0.4em;background-color: white;}#sk-container-id-19 div.sk-label label {font-family: monospace;font-weight: bold;display: inline-block;line-height: 1.2em;}#sk-container-id-19 div.sk-label-container {text-align: center;}#sk-container-id-19 div.sk-container {/* jupyter's `normalize.less` sets `[hidden] { display: none; }` but bootstrap.min.css set `[hidden] { display: none !important; }` so we also need the `!important` here to be able to override the default hidden behavior on the sphinx rendered scikit-learn.org. See: https://github.com/scikit-learn/scikit-learn/issues/21755 */display: inline-block !important;position: relative;}#sk-container-id-19 div.sk-text-repr-fallback {display: none;}</style><div id=\"sk-container-id-19\" class=\"sk-top-container\"><div class=\"sk-text-repr-fallback\"><pre>XGBRegressor(base_score=0.5, booster=&#x27;gbtree&#x27;, callbacks=None,\n",
       "             colsample_bylevel=1, colsample_bynode=1, colsample_bytree=1,\n",
       "             early_stopping_rounds=None, enable_categorical=False,\n",
       "             eval_metric=None, feature_types=None, gamma=0, gpu_id=-1,\n",
       "             grow_policy=&#x27;depthwise&#x27;, importance_type=None,\n",
       "             interaction_constraints=&#x27;&#x27;, learning_rate=0.1, max_bin=256,\n",
       "             max_cat_threshold=64, max_cat_to_onehot=4, max_delta_step=0,\n",
       "             max_depth=4, max_leaves=0, min_child_weight=1, missing=nan,\n",
       "             monotone_constraints=&#x27;()&#x27;, n_estimators=500, n_jobs=0,\n",
       "             num_parallel_tree=1, predictor=&#x27;auto&#x27;, random_state=42, ...)</pre><b>In a Jupyter environment, please rerun this cell to show the HTML representation or trust the notebook. <br />On GitHub, the HTML representation is unable to render, please try loading this page with nbviewer.org.</b></div><div class=\"sk-container\" hidden><div class=\"sk-item\"><div class=\"sk-estimator sk-toggleable\"><input class=\"sk-toggleable__control sk-hidden--visually\" id=\"sk-estimator-id-19\" type=\"checkbox\" checked><label for=\"sk-estimator-id-19\" class=\"sk-toggleable__label sk-toggleable__label-arrow\">XGBRegressor</label><div class=\"sk-toggleable__content\"><pre>XGBRegressor(base_score=0.5, booster=&#x27;gbtree&#x27;, callbacks=None,\n",
       "             colsample_bylevel=1, colsample_bynode=1, colsample_bytree=1,\n",
       "             early_stopping_rounds=None, enable_categorical=False,\n",
       "             eval_metric=None, feature_types=None, gamma=0, gpu_id=-1,\n",
       "             grow_policy=&#x27;depthwise&#x27;, importance_type=None,\n",
       "             interaction_constraints=&#x27;&#x27;, learning_rate=0.1, max_bin=256,\n",
       "             max_cat_threshold=64, max_cat_to_onehot=4, max_delta_step=0,\n",
       "             max_depth=4, max_leaves=0, min_child_weight=1, missing=nan,\n",
       "             monotone_constraints=&#x27;()&#x27;, n_estimators=500, n_jobs=0,\n",
       "             num_parallel_tree=1, predictor=&#x27;auto&#x27;, random_state=42, ...)</pre></div></div></div></div></div>"
      ],
      "text/plain": [
       "XGBRegressor(base_score=0.5, booster='gbtree', callbacks=None,\n",
       "             colsample_bylevel=1, colsample_bynode=1, colsample_bytree=1,\n",
       "             early_stopping_rounds=None, enable_categorical=False,\n",
       "             eval_metric=None, feature_types=None, gamma=0, gpu_id=-1,\n",
       "             grow_policy='depthwise', importance_type=None,\n",
       "             interaction_constraints='', learning_rate=0.1, max_bin=256,\n",
       "             max_cat_threshold=64, max_cat_to_onehot=4, max_delta_step=0,\n",
       "             max_depth=4, max_leaves=0, min_child_weight=1, missing=nan,\n",
       "             monotone_constraints='()', n_estimators=500, n_jobs=0,\n",
       "             num_parallel_tree=1, predictor='auto', random_state=42, ...)"
      ]
     },
     "execution_count": 104,
     "metadata": {},
     "output_type": "execute_result"
    }
   ],
   "source": [
    "xgb_cas.fit(X_train, y_train_cas)"
   ]
  },
  {
   "cell_type": "code",
   "execution_count": 105,
   "id": "1f3ac1d1-fc02-446a-9dc5-ba33dc80cf76",
   "metadata": {},
   "outputs": [
    {
     "data": {
      "text/html": [
       "<style>#sk-container-id-20 {color: black;background-color: white;}#sk-container-id-20 pre{padding: 0;}#sk-container-id-20 div.sk-toggleable {background-color: white;}#sk-container-id-20 label.sk-toggleable__label {cursor: pointer;display: block;width: 100%;margin-bottom: 0;padding: 0.3em;box-sizing: border-box;text-align: center;}#sk-container-id-20 label.sk-toggleable__label-arrow:before {content: \"▸\";float: left;margin-right: 0.25em;color: #696969;}#sk-container-id-20 label.sk-toggleable__label-arrow:hover:before {color: black;}#sk-container-id-20 div.sk-estimator:hover label.sk-toggleable__label-arrow:before {color: black;}#sk-container-id-20 div.sk-toggleable__content {max-height: 0;max-width: 0;overflow: hidden;text-align: left;background-color: #f0f8ff;}#sk-container-id-20 div.sk-toggleable__content pre {margin: 0.2em;color: black;border-radius: 0.25em;background-color: #f0f8ff;}#sk-container-id-20 input.sk-toggleable__control:checked~div.sk-toggleable__content {max-height: 200px;max-width: 100%;overflow: auto;}#sk-container-id-20 input.sk-toggleable__control:checked~label.sk-toggleable__label-arrow:before {content: \"▾\";}#sk-container-id-20 div.sk-estimator input.sk-toggleable__control:checked~label.sk-toggleable__label {background-color: #d4ebff;}#sk-container-id-20 div.sk-label input.sk-toggleable__control:checked~label.sk-toggleable__label {background-color: #d4ebff;}#sk-container-id-20 input.sk-hidden--visually {border: 0;clip: rect(1px 1px 1px 1px);clip: rect(1px, 1px, 1px, 1px);height: 1px;margin: -1px;overflow: hidden;padding: 0;position: absolute;width: 1px;}#sk-container-id-20 div.sk-estimator {font-family: monospace;background-color: #f0f8ff;border: 1px dotted black;border-radius: 0.25em;box-sizing: border-box;margin-bottom: 0.5em;}#sk-container-id-20 div.sk-estimator:hover {background-color: #d4ebff;}#sk-container-id-20 div.sk-parallel-item::after {content: \"\";width: 100%;border-bottom: 1px solid gray;flex-grow: 1;}#sk-container-id-20 div.sk-label:hover label.sk-toggleable__label {background-color: #d4ebff;}#sk-container-id-20 div.sk-serial::before {content: \"\";position: absolute;border-left: 1px solid gray;box-sizing: border-box;top: 0;bottom: 0;left: 50%;z-index: 0;}#sk-container-id-20 div.sk-serial {display: flex;flex-direction: column;align-items: center;background-color: white;padding-right: 0.2em;padding-left: 0.2em;position: relative;}#sk-container-id-20 div.sk-item {position: relative;z-index: 1;}#sk-container-id-20 div.sk-parallel {display: flex;align-items: stretch;justify-content: center;background-color: white;position: relative;}#sk-container-id-20 div.sk-item::before, #sk-container-id-20 div.sk-parallel-item::before {content: \"\";position: absolute;border-left: 1px solid gray;box-sizing: border-box;top: 0;bottom: 0;left: 50%;z-index: -1;}#sk-container-id-20 div.sk-parallel-item {display: flex;flex-direction: column;z-index: 1;position: relative;background-color: white;}#sk-container-id-20 div.sk-parallel-item:first-child::after {align-self: flex-end;width: 50%;}#sk-container-id-20 div.sk-parallel-item:last-child::after {align-self: flex-start;width: 50%;}#sk-container-id-20 div.sk-parallel-item:only-child::after {width: 0;}#sk-container-id-20 div.sk-dashed-wrapped {border: 1px dashed gray;margin: 0 0.4em 0.5em 0.4em;box-sizing: border-box;padding-bottom: 0.4em;background-color: white;}#sk-container-id-20 div.sk-label label {font-family: monospace;font-weight: bold;display: inline-block;line-height: 1.2em;}#sk-container-id-20 div.sk-label-container {text-align: center;}#sk-container-id-20 div.sk-container {/* jupyter's `normalize.less` sets `[hidden] { display: none; }` but bootstrap.min.css set `[hidden] { display: none !important; }` so we also need the `!important` here to be able to override the default hidden behavior on the sphinx rendered scikit-learn.org. See: https://github.com/scikit-learn/scikit-learn/issues/21755 */display: inline-block !important;position: relative;}#sk-container-id-20 div.sk-text-repr-fallback {display: none;}</style><div id=\"sk-container-id-20\" class=\"sk-top-container\"><div class=\"sk-text-repr-fallback\"><pre>XGBRegressor(base_score=0.5, booster=&#x27;gbtree&#x27;, callbacks=None,\n",
       "             colsample_bylevel=1, colsample_bynode=1, colsample_bytree=1,\n",
       "             early_stopping_rounds=None, enable_categorical=False,\n",
       "             eval_metric=None, feature_types=None, gamma=0, gpu_id=-1,\n",
       "             grow_policy=&#x27;depthwise&#x27;, importance_type=None,\n",
       "             interaction_constraints=&#x27;&#x27;, learning_rate=0.1, max_bin=256,\n",
       "             max_cat_threshold=64, max_cat_to_onehot=4, max_delta_step=0,\n",
       "             max_depth=4, max_leaves=0, min_child_weight=1, missing=nan,\n",
       "             monotone_constraints=&#x27;()&#x27;, n_estimators=500, n_jobs=0,\n",
       "             num_parallel_tree=1, predictor=&#x27;auto&#x27;, random_state=42, ...)</pre><b>In a Jupyter environment, please rerun this cell to show the HTML representation or trust the notebook. <br />On GitHub, the HTML representation is unable to render, please try loading this page with nbviewer.org.</b></div><div class=\"sk-container\" hidden><div class=\"sk-item\"><div class=\"sk-estimator sk-toggleable\"><input class=\"sk-toggleable__control sk-hidden--visually\" id=\"sk-estimator-id-20\" type=\"checkbox\" checked><label for=\"sk-estimator-id-20\" class=\"sk-toggleable__label sk-toggleable__label-arrow\">XGBRegressor</label><div class=\"sk-toggleable__content\"><pre>XGBRegressor(base_score=0.5, booster=&#x27;gbtree&#x27;, callbacks=None,\n",
       "             colsample_bylevel=1, colsample_bynode=1, colsample_bytree=1,\n",
       "             early_stopping_rounds=None, enable_categorical=False,\n",
       "             eval_metric=None, feature_types=None, gamma=0, gpu_id=-1,\n",
       "             grow_policy=&#x27;depthwise&#x27;, importance_type=None,\n",
       "             interaction_constraints=&#x27;&#x27;, learning_rate=0.1, max_bin=256,\n",
       "             max_cat_threshold=64, max_cat_to_onehot=4, max_delta_step=0,\n",
       "             max_depth=4, max_leaves=0, min_child_weight=1, missing=nan,\n",
       "             monotone_constraints=&#x27;()&#x27;, n_estimators=500, n_jobs=0,\n",
       "             num_parallel_tree=1, predictor=&#x27;auto&#x27;, random_state=42, ...)</pre></div></div></div></div></div>"
      ],
      "text/plain": [
       "XGBRegressor(base_score=0.5, booster='gbtree', callbacks=None,\n",
       "             colsample_bylevel=1, colsample_bynode=1, colsample_bytree=1,\n",
       "             early_stopping_rounds=None, enable_categorical=False,\n",
       "             eval_metric=None, feature_types=None, gamma=0, gpu_id=-1,\n",
       "             grow_policy='depthwise', importance_type=None,\n",
       "             interaction_constraints='', learning_rate=0.1, max_bin=256,\n",
       "             max_cat_threshold=64, max_cat_to_onehot=4, max_delta_step=0,\n",
       "             max_depth=4, max_leaves=0, min_child_weight=1, missing=nan,\n",
       "             monotone_constraints='()', n_estimators=500, n_jobs=0,\n",
       "             num_parallel_tree=1, predictor='auto', random_state=42, ...)"
      ]
     },
     "execution_count": 105,
     "metadata": {},
     "output_type": "execute_result"
    }
   ],
   "source": [
    "xgb_reg.fit(X_train, y_train_reg)"
   ]
  },
  {
   "cell_type": "code",
   "execution_count": 17,
   "id": "a3136736-ce2d-41b6-867a-9da8f0b8cae3",
   "metadata": {},
   "outputs": [],
   "source": [
    "# Created by https://www.kaggle.com/code/guosue/top-1-bike-sharing-detailed-eda-xgboost\n",
    "xgb_parameters = {'random_state': [42], \n",
    "                  'n_estimators': [300, 400, 500], \n",
    "                  'max_depth': [3, 4, 5], \n",
    "                  'learning_rate': [0.1],\n",
    "                  'alpha': [0, 0.1, 0.5]}\n",
    "\n",
    "\n"
   ]
  },
  {
   "cell_type": "code",
   "execution_count": null,
   "id": "8570d377-3379-4641-91dc-bf3f7d31e6d4",
   "metadata": {},
   "outputs": [],
   "source": [
    "rmsle_scorer = metrics.make_scorer(mean_squared_log_error, greater_is_better = False)"
   ]
  },
  {
   "cell_type": "code",
   "execution_count": null,
   "id": "5b4f2131-bf3e-4041-8d35-022571d0e0ef",
   "metadata": {},
   "outputs": [],
   "source": [
    "gs = GridSearchCV(estimator = model, param_grid = xgb_parameters, scoring = rmsle_scorer, cv = 5)"
   ]
  },
  {
   "cell_type": "code",
   "execution_count": null,
   "id": "748ddc90-7934-493a-948a-fd6ceea5f0d4",
   "metadata": {},
   "outputs": [],
   "source": [
    "# Will throw a lot of warning if ignore warnings not on.\n",
    "#gs.fit(X_train, y_train_reg)\n",
    "#print('Best params for XGBoost model on Registered Riders are: ', gs.best_params_)"
   ]
  },
  {
   "cell_type": "code",
   "execution_count": null,
   "id": "ad58f44c-cdc1-4c3b-a127-d336d632ad39",
   "metadata": {},
   "outputs": [],
   "source": [
    "#gs.fit(X_train, y_train_cas)\n",
    "#print('Best params for XGBoost model on Casual Riders are: ', gs.best_params_)"
   ]
  },
  {
   "cell_type": "code",
   "execution_count": 106,
   "id": "7822facd-1ac1-4080-bde1-6a473e0abb25",
   "metadata": {},
   "outputs": [],
   "source": [
    "# Proposed by https://www.kaggle.com/code/guosue/top-1-bike-sharing-detailed-eda-xgboost\n",
    "# Define which models to use\n",
    "models = [xgb_cas, xgb_reg]\n",
    "\n",
    "# Create an empty list to append to\n",
    "prediction = []\n",
    "\n",
    "# Predict, unlog, and append each prediction to a list\n",
    "for model in models:\n",
    "    pre = model.predict(X_val)\n",
    "    pre = np.expm1(pre)\n",
    "    prediction.append(pre)\n",
    "\n",
    "# Sum the predictions for Casual and Registered riders at each point in DateTime\n",
    "preds = sum(prediction)"
   ]
  },
  {
   "cell_type": "code",
   "execution_count": 107,
   "id": "407b08a4-37e9-4b7b-bd0e-ff1fb820f494",
   "metadata": {},
   "outputs": [],
   "source": [
    "# Unlog the Validation 'answers'\n",
    "y_val_unlog = np.expm1(y_val)"
   ]
  },
  {
   "cell_type": "code",
   "execution_count": 108,
   "id": "a6727b94-91e1-41e8-b1a1-a7a35dd3c35a",
   "metadata": {},
   "outputs": [
    {
     "data": {
      "text/plain": [
       "166.68142883624589"
      ]
     },
     "execution_count": 108,
     "metadata": {},
     "output_type": "execute_result"
    }
   ],
   "source": [
    "std_count"
   ]
  },
  {
   "cell_type": "code",
   "execution_count": 109,
   "id": "2fd3284b-409b-4f54-8f23-24e20b521bff",
   "metadata": {},
   "outputs": [
    {
     "data": {
      "text/plain": [
       "37.820599671108575"
      ]
     },
     "execution_count": 109,
     "metadata": {},
     "output_type": "execute_result"
    }
   ],
   "source": [
    "np.sqrt(mean_squared_error(y_val_unlog, preds))"
   ]
  },
  {
   "cell_type": "code",
   "execution_count": 110,
   "id": "f6931df3-3981-421e-977f-221c53d8196b",
   "metadata": {},
   "outputs": [
    {
     "data": {
      "text/plain": [
       "0.08292528259125564"
      ]
     },
     "execution_count": 110,
     "metadata": {},
     "output_type": "execute_result"
    }
   ],
   "source": [
    "# Final score vs. Validation data\n",
    "mean_squared_log_error(y_val_unlog, preds)"
   ]
  },
  {
   "cell_type": "code",
   "execution_count": 25,
   "id": "9933f34b-d831-4f94-b3b9-1ce04f4ff3fc",
   "metadata": {},
   "outputs": [],
   "source": [
    "#submit = pd.DataFrame({'datetime':date_time,'count':preds})\n",
    "#submit.to_csv('final_answer.csv',index=False)"
   ]
  }
 ],
 "metadata": {
  "kernelspec": {
   "display_name": "Python 3 (ipykernel)",
   "language": "python",
   "name": "python3"
  },
  "language_info": {
   "codemirror_mode": {
    "name": "ipython",
    "version": 3
   },
   "file_extension": ".py",
   "mimetype": "text/x-python",
   "name": "python",
   "nbconvert_exporter": "python",
   "pygments_lexer": "ipython3",
   "version": "3.9.13"
  }
 },
 "nbformat": 4,
 "nbformat_minor": 5
}
