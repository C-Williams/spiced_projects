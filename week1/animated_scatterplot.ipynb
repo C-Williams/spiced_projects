{
 "cells": [
  {
   "cell_type": "code",
   "execution_count": 1,
   "id": "c9a2a0b2-d7bb-493a-bacc-6fa6d1618676",
   "metadata": {},
   "outputs": [],
   "source": [
    "import pandas as pd\n",
    "import matplotlib.pyplot as plt\n",
    "import seaborn as sns\n",
    "\n",
    "fert = pd.read_csv('gapminder_total_fertility.csv', index_col=0)\n",
    "life = pd.read_excel('gapminder_lifeexpectancy.xlsx', index_col=0)"
   ]
  },
  {
   "cell_type": "code",
   "execution_count": 2,
   "id": "2dc77feb-bde9-4837-aff1-13c017e63376",
   "metadata": {},
   "outputs": [
    {
     "data": {
      "text/plain": [
       "((260, 216), (260, 217))"
      ]
     },
     "execution_count": 2,
     "metadata": {},
     "output_type": "execute_result"
    }
   ],
   "source": [
    "fert.shape, life.shape"
   ]
  },
  {
   "cell_type": "code",
   "execution_count": 3,
   "id": "85599d4c-562e-4fd5-9002-56f5154629de",
   "metadata": {},
   "outputs": [
    {
     "data": {
      "text/html": [
       "<div>\n",
       "<style scoped>\n",
       "    .dataframe tbody tr th:only-of-type {\n",
       "        vertical-align: middle;\n",
       "    }\n",
       "\n",
       "    .dataframe tbody tr th {\n",
       "        vertical-align: top;\n",
       "    }\n",
       "\n",
       "    .dataframe thead th {\n",
       "        text-align: right;\n",
       "    }\n",
       "</style>\n",
       "<table border=\"1\" class=\"dataframe\">\n",
       "  <thead>\n",
       "    <tr style=\"text-align: right;\">\n",
       "      <th></th>\n",
       "      <th>1800</th>\n",
       "      <th>1801</th>\n",
       "      <th>1802</th>\n",
       "      <th>1803</th>\n",
       "      <th>1804</th>\n",
       "      <th>1805</th>\n",
       "      <th>1806</th>\n",
       "      <th>1807</th>\n",
       "      <th>1808</th>\n",
       "      <th>1809</th>\n",
       "      <th>...</th>\n",
       "      <th>2006</th>\n",
       "      <th>2007</th>\n",
       "      <th>2008</th>\n",
       "      <th>2009</th>\n",
       "      <th>2010</th>\n",
       "      <th>2011</th>\n",
       "      <th>2012</th>\n",
       "      <th>2013</th>\n",
       "      <th>2014</th>\n",
       "      <th>2015</th>\n",
       "    </tr>\n",
       "    <tr>\n",
       "      <th>Total fertility rate</th>\n",
       "      <th></th>\n",
       "      <th></th>\n",
       "      <th></th>\n",
       "      <th></th>\n",
       "      <th></th>\n",
       "      <th></th>\n",
       "      <th></th>\n",
       "      <th></th>\n",
       "      <th></th>\n",
       "      <th></th>\n",
       "      <th></th>\n",
       "      <th></th>\n",
       "      <th></th>\n",
       "      <th></th>\n",
       "      <th></th>\n",
       "      <th></th>\n",
       "      <th></th>\n",
       "      <th></th>\n",
       "      <th></th>\n",
       "      <th></th>\n",
       "      <th></th>\n",
       "    </tr>\n",
       "  </thead>\n",
       "  <tbody>\n",
       "    <tr>\n",
       "      <th>Abkhazia</th>\n",
       "      <td>NaN</td>\n",
       "      <td>NaN</td>\n",
       "      <td>NaN</td>\n",
       "      <td>NaN</td>\n",
       "      <td>NaN</td>\n",
       "      <td>NaN</td>\n",
       "      <td>NaN</td>\n",
       "      <td>NaN</td>\n",
       "      <td>NaN</td>\n",
       "      <td>NaN</td>\n",
       "      <td>...</td>\n",
       "      <td>NaN</td>\n",
       "      <td>NaN</td>\n",
       "      <td>NaN</td>\n",
       "      <td>NaN</td>\n",
       "      <td>NaN</td>\n",
       "      <td>NaN</td>\n",
       "      <td>NaN</td>\n",
       "      <td>NaN</td>\n",
       "      <td>NaN</td>\n",
       "      <td>NaN</td>\n",
       "    </tr>\n",
       "    <tr>\n",
       "      <th>Afghanistan</th>\n",
       "      <td>7.0</td>\n",
       "      <td>7.0</td>\n",
       "      <td>7.0</td>\n",
       "      <td>7.0</td>\n",
       "      <td>7.0</td>\n",
       "      <td>7.0</td>\n",
       "      <td>7.0</td>\n",
       "      <td>7.0</td>\n",
       "      <td>7.0</td>\n",
       "      <td>7.0</td>\n",
       "      <td>...</td>\n",
       "      <td>6.7</td>\n",
       "      <td>6.46</td>\n",
       "      <td>6.2</td>\n",
       "      <td>5.93</td>\n",
       "      <td>5.66</td>\n",
       "      <td>5.4</td>\n",
       "      <td>5.14</td>\n",
       "      <td>4.9</td>\n",
       "      <td>4.68</td>\n",
       "      <td>4.47</td>\n",
       "    </tr>\n",
       "  </tbody>\n",
       "</table>\n",
       "<p>2 rows × 216 columns</p>\n",
       "</div>"
      ],
      "text/plain": [
       "                      1800  1801  1802  1803  1804  1805  1806  1807  1808  \\\n",
       "Total fertility rate                                                         \n",
       "Abkhazia               NaN   NaN   NaN   NaN   NaN   NaN   NaN   NaN   NaN   \n",
       "Afghanistan            7.0   7.0   7.0   7.0   7.0   7.0   7.0   7.0   7.0   \n",
       "\n",
       "                      1809  ...  2006  2007  2008  2009  2010  2011  2012  \\\n",
       "Total fertility rate        ...                                             \n",
       "Abkhazia               NaN  ...   NaN   NaN   NaN   NaN   NaN   NaN   NaN   \n",
       "Afghanistan            7.0  ...   6.7  6.46   6.2  5.93  5.66   5.4  5.14   \n",
       "\n",
       "                      2013  2014  2015  \n",
       "Total fertility rate                    \n",
       "Abkhazia               NaN   NaN   NaN  \n",
       "Afghanistan            4.9  4.68  4.47  \n",
       "\n",
       "[2 rows x 216 columns]"
      ]
     },
     "execution_count": 3,
     "metadata": {},
     "output_type": "execute_result"
    }
   ],
   "source": [
    "fert.head(2)"
   ]
  },
  {
   "cell_type": "code",
   "execution_count": 4,
   "id": "7f219915-30be-4241-a86a-d843ecb5b38a",
   "metadata": {},
   "outputs": [
    {
     "data": {
      "text/html": [
       "<div>\n",
       "<style scoped>\n",
       "    .dataframe tbody tr th:only-of-type {\n",
       "        vertical-align: middle;\n",
       "    }\n",
       "\n",
       "    .dataframe tbody tr th {\n",
       "        vertical-align: top;\n",
       "    }\n",
       "\n",
       "    .dataframe thead th {\n",
       "        text-align: right;\n",
       "    }\n",
       "</style>\n",
       "<table border=\"1\" class=\"dataframe\">\n",
       "  <thead>\n",
       "    <tr style=\"text-align: right;\">\n",
       "      <th></th>\n",
       "      <th>1800</th>\n",
       "      <th>1801</th>\n",
       "      <th>1802</th>\n",
       "      <th>1803</th>\n",
       "      <th>1804</th>\n",
       "      <th>1805</th>\n",
       "      <th>1806</th>\n",
       "      <th>1807</th>\n",
       "      <th>1808</th>\n",
       "      <th>1809</th>\n",
       "      <th>...</th>\n",
       "      <th>2007</th>\n",
       "      <th>2008</th>\n",
       "      <th>2009</th>\n",
       "      <th>2010</th>\n",
       "      <th>2011</th>\n",
       "      <th>2012</th>\n",
       "      <th>2013</th>\n",
       "      <th>2014</th>\n",
       "      <th>2015</th>\n",
       "      <th>2016</th>\n",
       "    </tr>\n",
       "    <tr>\n",
       "      <th>Life expectancy</th>\n",
       "      <th></th>\n",
       "      <th></th>\n",
       "      <th></th>\n",
       "      <th></th>\n",
       "      <th></th>\n",
       "      <th></th>\n",
       "      <th></th>\n",
       "      <th></th>\n",
       "      <th></th>\n",
       "      <th></th>\n",
       "      <th></th>\n",
       "      <th></th>\n",
       "      <th></th>\n",
       "      <th></th>\n",
       "      <th></th>\n",
       "      <th></th>\n",
       "      <th></th>\n",
       "      <th></th>\n",
       "      <th></th>\n",
       "      <th></th>\n",
       "      <th></th>\n",
       "    </tr>\n",
       "  </thead>\n",
       "  <tbody>\n",
       "    <tr>\n",
       "      <th>Abkhazia</th>\n",
       "      <td>NaN</td>\n",
       "      <td>NaN</td>\n",
       "      <td>NaN</td>\n",
       "      <td>NaN</td>\n",
       "      <td>NaN</td>\n",
       "      <td>NaN</td>\n",
       "      <td>NaN</td>\n",
       "      <td>NaN</td>\n",
       "      <td>NaN</td>\n",
       "      <td>NaN</td>\n",
       "      <td>...</td>\n",
       "      <td>NaN</td>\n",
       "      <td>NaN</td>\n",
       "      <td>NaN</td>\n",
       "      <td>NaN</td>\n",
       "      <td>NaN</td>\n",
       "      <td>NaN</td>\n",
       "      <td>NaN</td>\n",
       "      <td>NaN</td>\n",
       "      <td>NaN</td>\n",
       "      <td>NaN</td>\n",
       "    </tr>\n",
       "    <tr>\n",
       "      <th>Afghanistan</th>\n",
       "      <td>28.21</td>\n",
       "      <td>28.2</td>\n",
       "      <td>28.19</td>\n",
       "      <td>28.18</td>\n",
       "      <td>28.17</td>\n",
       "      <td>28.16</td>\n",
       "      <td>28.15</td>\n",
       "      <td>28.14</td>\n",
       "      <td>28.13</td>\n",
       "      <td>28.12</td>\n",
       "      <td>...</td>\n",
       "      <td>52.4</td>\n",
       "      <td>52.8</td>\n",
       "      <td>53.3</td>\n",
       "      <td>53.6</td>\n",
       "      <td>54.0</td>\n",
       "      <td>54.4</td>\n",
       "      <td>54.8</td>\n",
       "      <td>54.9</td>\n",
       "      <td>53.8</td>\n",
       "      <td>52.72</td>\n",
       "    </tr>\n",
       "  </tbody>\n",
       "</table>\n",
       "<p>2 rows × 217 columns</p>\n",
       "</div>"
      ],
      "text/plain": [
       "                  1800  1801   1802   1803   1804   1805   1806   1807   1808  \\\n",
       "Life expectancy                                                                 \n",
       "Abkhazia           NaN   NaN    NaN    NaN    NaN    NaN    NaN    NaN    NaN   \n",
       "Afghanistan      28.21  28.2  28.19  28.18  28.17  28.16  28.15  28.14  28.13   \n",
       "\n",
       "                  1809  ...  2007  2008  2009  2010  2011  2012  2013  2014  \\\n",
       "Life expectancy         ...                                                   \n",
       "Abkhazia           NaN  ...   NaN   NaN   NaN   NaN   NaN   NaN   NaN   NaN   \n",
       "Afghanistan      28.12  ...  52.4  52.8  53.3  53.6  54.0  54.4  54.8  54.9   \n",
       "\n",
       "                 2015   2016  \n",
       "Life expectancy               \n",
       "Abkhazia          NaN    NaN  \n",
       "Afghanistan      53.8  52.72  \n",
       "\n",
       "[2 rows x 217 columns]"
      ]
     },
     "execution_count": 4,
     "metadata": {},
     "output_type": "execute_result"
    }
   ],
   "source": [
    "life.head(2)"
   ]
  },
  {
   "cell_type": "code",
   "execution_count": 5,
   "id": "6096d495-1d26-406b-8b3f-ce62f1105069",
   "metadata": {},
   "outputs": [],
   "source": [
    "fert.columns = fert.columns.astype(int)"
   ]
  },
  {
   "cell_type": "code",
   "execution_count": 6,
   "id": "f2376d8e-b52e-492f-b36e-11a38d5a587d",
   "metadata": {},
   "outputs": [],
   "source": [
    "fert.index.name = 'country'"
   ]
  },
  {
   "cell_type": "code",
   "execution_count": 7,
   "id": "db90c273-8ff8-48ef-aaa1-5b37a68ec261",
   "metadata": {},
   "outputs": [],
   "source": [
    "fert = fert.reset_index()"
   ]
  },
  {
   "cell_type": "code",
   "execution_count": 8,
   "id": "5237f1bc-27e9-48de-b6f2-c97d6c8b3275",
   "metadata": {},
   "outputs": [
    {
     "data": {
      "text/html": [
       "<div>\n",
       "<style scoped>\n",
       "    .dataframe tbody tr th:only-of-type {\n",
       "        vertical-align: middle;\n",
       "    }\n",
       "\n",
       "    .dataframe tbody tr th {\n",
       "        vertical-align: top;\n",
       "    }\n",
       "\n",
       "    .dataframe thead th {\n",
       "        text-align: right;\n",
       "    }\n",
       "</style>\n",
       "<table border=\"1\" class=\"dataframe\">\n",
       "  <thead>\n",
       "    <tr style=\"text-align: right;\">\n",
       "      <th></th>\n",
       "      <th>country</th>\n",
       "      <th>year</th>\n",
       "      <th>Total fertility rate</th>\n",
       "    </tr>\n",
       "  </thead>\n",
       "  <tbody>\n",
       "    <tr>\n",
       "      <th>0</th>\n",
       "      <td>Abkhazia</td>\n",
       "      <td>1800</td>\n",
       "      <td>NaN</td>\n",
       "    </tr>\n",
       "    <tr>\n",
       "      <th>1</th>\n",
       "      <td>Afghanistan</td>\n",
       "      <td>1800</td>\n",
       "      <td>7.0</td>\n",
       "    </tr>\n",
       "  </tbody>\n",
       "</table>\n",
       "</div>"
      ],
      "text/plain": [
       "       country  year  Total fertility rate\n",
       "0     Abkhazia  1800                   NaN\n",
       "1  Afghanistan  1800                   7.0"
      ]
     },
     "execution_count": 8,
     "metadata": {},
     "output_type": "execute_result"
    }
   ],
   "source": [
    "fert = fert.melt(id_vars='country', var_name='year', value_name='Total fertility rate')\n",
    "fert.head(2)"
   ]
  },
  {
   "cell_type": "code",
   "execution_count": 9,
   "id": "733790c5-eefd-499c-a2cd-5bac1f4adf8f",
   "metadata": {},
   "outputs": [
    {
     "data": {
      "text/plain": [
       "Index(['Abkhazia', 'Afghanistan', 'Akrotiri and Dhekelia', 'Albania',\n",
       "       'Algeria', 'American Samoa', 'Andorra', 'Angola', 'Anguilla',\n",
       "       'Antigua and Barbuda',\n",
       "       ...\n",
       "       'Vietnam', 'Virgin Islands (U.S.)', 'North Yemen (former)',\n",
       "       'South Yemen (former)', 'Yemen', 'Yugoslavia', 'Zambia', 'Zimbabwe',\n",
       "       'Åland', 'South Sudan'],\n",
       "      dtype='object', name='Life expectancy', length=260)"
      ]
     },
     "execution_count": 9,
     "metadata": {},
     "output_type": "execute_result"
    }
   ],
   "source": [
    "life.index"
   ]
  },
  {
   "cell_type": "code",
   "execution_count": 10,
   "id": "9e4dbe41-0f8d-46b6-94ac-d871bc02e8fc",
   "metadata": {},
   "outputs": [],
   "source": [
    "life.index.name = 'country'"
   ]
  },
  {
   "cell_type": "code",
   "execution_count": 11,
   "id": "1d822773-d5eb-4b8f-8841-6a02b31c6cae",
   "metadata": {},
   "outputs": [],
   "source": [
    "life = life.reset_index()"
   ]
  },
  {
   "cell_type": "code",
   "execution_count": 12,
   "id": "32dade22-480b-44c0-9672-ffca919a32a8",
   "metadata": {},
   "outputs": [
    {
     "data": {
      "text/html": [
       "<div>\n",
       "<style scoped>\n",
       "    .dataframe tbody tr th:only-of-type {\n",
       "        vertical-align: middle;\n",
       "    }\n",
       "\n",
       "    .dataframe tbody tr th {\n",
       "        vertical-align: top;\n",
       "    }\n",
       "\n",
       "    .dataframe thead th {\n",
       "        text-align: right;\n",
       "    }\n",
       "</style>\n",
       "<table border=\"1\" class=\"dataframe\">\n",
       "  <thead>\n",
       "    <tr style=\"text-align: right;\">\n",
       "      <th></th>\n",
       "      <th>country</th>\n",
       "      <th>year</th>\n",
       "      <th>Life expectancy</th>\n",
       "    </tr>\n",
       "  </thead>\n",
       "  <tbody>\n",
       "    <tr>\n",
       "      <th>0</th>\n",
       "      <td>Abkhazia</td>\n",
       "      <td>1800</td>\n",
       "      <td>NaN</td>\n",
       "    </tr>\n",
       "    <tr>\n",
       "      <th>1</th>\n",
       "      <td>Afghanistan</td>\n",
       "      <td>1800</td>\n",
       "      <td>28.21</td>\n",
       "    </tr>\n",
       "  </tbody>\n",
       "</table>\n",
       "</div>"
      ],
      "text/plain": [
       "       country  year  Life expectancy\n",
       "0     Abkhazia  1800              NaN\n",
       "1  Afghanistan  1800            28.21"
      ]
     },
     "execution_count": 12,
     "metadata": {},
     "output_type": "execute_result"
    }
   ],
   "source": [
    "life = life.melt(id_vars='country', var_name='year', value_name='Life expectancy')\n",
    "life.head(2)"
   ]
  },
  {
   "cell_type": "code",
   "execution_count": 13,
   "id": "adfc77c8-1b3f-46cb-86c4-25d59f0b6edd",
   "metadata": {},
   "outputs": [
    {
     "data": {
      "text/html": [
       "<div>\n",
       "<style scoped>\n",
       "    .dataframe tbody tr th:only-of-type {\n",
       "        vertical-align: middle;\n",
       "    }\n",
       "\n",
       "    .dataframe tbody tr th {\n",
       "        vertical-align: top;\n",
       "    }\n",
       "\n",
       "    .dataframe thead th {\n",
       "        text-align: right;\n",
       "    }\n",
       "</style>\n",
       "<table border=\"1\" class=\"dataframe\">\n",
       "  <thead>\n",
       "    <tr style=\"text-align: right;\">\n",
       "      <th></th>\n",
       "      <th>country</th>\n",
       "      <th>year</th>\n",
       "      <th>Total population</th>\n",
       "    </tr>\n",
       "  </thead>\n",
       "  <tbody>\n",
       "    <tr>\n",
       "      <th>0</th>\n",
       "      <td>Abkhazia</td>\n",
       "      <td>1800</td>\n",
       "      <td>NaN</td>\n",
       "    </tr>\n",
       "    <tr>\n",
       "      <th>1</th>\n",
       "      <td>Afghanistan</td>\n",
       "      <td>1800</td>\n",
       "      <td>3280000.0</td>\n",
       "    </tr>\n",
       "  </tbody>\n",
       "</table>\n",
       "</div>"
      ],
      "text/plain": [
       "       country  year  Total population\n",
       "0     Abkhazia  1800               NaN\n",
       "1  Afghanistan  1800         3280000.0"
      ]
     },
     "execution_count": 13,
     "metadata": {},
     "output_type": "execute_result"
    }
   ],
   "source": [
    "population = pd.read_excel('gapminder_population.xlsx', index_col=0)\n",
    "population.columns = population.columns.astype(int)\n",
    "population.index.name = 'country'\n",
    "population = population.reset_index()\n",
    "population = population.melt(id_vars='country', var_name='year', value_name='Total population')\n",
    "population.head(2)"
   ]
  },
  {
   "cell_type": "code",
   "execution_count": 14,
   "id": "a8785fd0-383e-4224-87a5-c64c7c3c87e3",
   "metadata": {},
   "outputs": [
    {
     "data": {
      "text/html": [
       "<div>\n",
       "<style scoped>\n",
       "    .dataframe tbody tr th:only-of-type {\n",
       "        vertical-align: middle;\n",
       "    }\n",
       "\n",
       "    .dataframe tbody tr th {\n",
       "        vertical-align: top;\n",
       "    }\n",
       "\n",
       "    .dataframe thead th {\n",
       "        text-align: right;\n",
       "    }\n",
       "</style>\n",
       "<table border=\"1\" class=\"dataframe\">\n",
       "  <thead>\n",
       "    <tr style=\"text-align: right;\">\n",
       "      <th></th>\n",
       "      <th>country</th>\n",
       "      <th>year</th>\n",
       "      <th>Total fertility rate</th>\n",
       "      <th>Total population</th>\n",
       "      <th>Life expectancy</th>\n",
       "    </tr>\n",
       "  </thead>\n",
       "  <tbody>\n",
       "    <tr>\n",
       "      <th>0</th>\n",
       "      <td>Abkhazia</td>\n",
       "      <td>1800</td>\n",
       "      <td>NaN</td>\n",
       "      <td>NaN</td>\n",
       "      <td>NaN</td>\n",
       "    </tr>\n",
       "    <tr>\n",
       "      <th>1</th>\n",
       "      <td>Afghanistan</td>\n",
       "      <td>1800</td>\n",
       "      <td>7.0</td>\n",
       "      <td>3280000.0</td>\n",
       "      <td>28.21</td>\n",
       "    </tr>\n",
       "  </tbody>\n",
       "</table>\n",
       "</div>"
      ],
      "text/plain": [
       "       country  year  Total fertility rate  Total population  Life expectancy\n",
       "0     Abkhazia  1800                   NaN               NaN              NaN\n",
       "1  Afghanistan  1800                   7.0         3280000.0            28.21"
      ]
     },
     "execution_count": 14,
     "metadata": {},
     "output_type": "execute_result"
    }
   ],
   "source": [
    "df1 = fert.merge(population)\n",
    "df2 = df1.merge(life)\n",
    "df2.head(2)"
   ]
  },
  {
   "cell_type": "code",
   "execution_count": 15,
   "id": "4606ee4d-2760-4641-ad31-0ab2f43a50b6",
   "metadata": {},
   "outputs": [],
   "source": [
    "continents = pd.read_csv('continents.csv', sep=';')"
   ]
  },
  {
   "cell_type": "code",
   "execution_count": 16,
   "id": "53b13639-25af-4f6a-84c6-621fbaf8210b",
   "metadata": {},
   "outputs": [
    {
     "data": {
      "text/html": [
       "<div>\n",
       "<style scoped>\n",
       "    .dataframe tbody tr th:only-of-type {\n",
       "        vertical-align: middle;\n",
       "    }\n",
       "\n",
       "    .dataframe tbody tr th {\n",
       "        vertical-align: top;\n",
       "    }\n",
       "\n",
       "    .dataframe thead th {\n",
       "        text-align: right;\n",
       "    }\n",
       "</style>\n",
       "<table border=\"1\" class=\"dataframe\">\n",
       "  <thead>\n",
       "    <tr style=\"text-align: right;\">\n",
       "      <th></th>\n",
       "      <th>country</th>\n",
       "      <th>continent</th>\n",
       "      <th>year</th>\n",
       "      <th>Total fertility rate</th>\n",
       "      <th>Total population</th>\n",
       "      <th>Life expectancy</th>\n",
       "    </tr>\n",
       "  </thead>\n",
       "  <tbody>\n",
       "    <tr>\n",
       "      <th>0</th>\n",
       "      <td>Afghanistan</td>\n",
       "      <td>Asia</td>\n",
       "      <td>1800</td>\n",
       "      <td>7.0</td>\n",
       "      <td>3280000.0</td>\n",
       "      <td>28.21</td>\n",
       "    </tr>\n",
       "    <tr>\n",
       "      <th>1</th>\n",
       "      <td>Afghanistan</td>\n",
       "      <td>Asia</td>\n",
       "      <td>1810</td>\n",
       "      <td>7.0</td>\n",
       "      <td>3280000.0</td>\n",
       "      <td>28.11</td>\n",
       "    </tr>\n",
       "  </tbody>\n",
       "</table>\n",
       "</div>"
      ],
      "text/plain": [
       "       country continent  year  Total fertility rate  Total population  \\\n",
       "0  Afghanistan      Asia  1800                   7.0         3280000.0   \n",
       "1  Afghanistan      Asia  1810                   7.0         3280000.0   \n",
       "\n",
       "   Life expectancy  \n",
       "0            28.21  \n",
       "1            28.11  "
      ]
     },
     "execution_count": 16,
     "metadata": {},
     "output_type": "execute_result"
    }
   ],
   "source": [
    "df3 = df2.merge(continents, on='country')\n",
    "df3 = df3.iloc[:, [0,5,1,2,3,4]]\n",
    "df3 = df3.sort_values(by=['country', 'year'])\n",
    "df3.head(2)"
   ]
  },
  {
   "cell_type": "code",
   "execution_count": 17,
   "id": "b4eba335-eaa4-4b9a-a48d-84a49e0bcb64",
   "metadata": {},
   "outputs": [
    {
     "data": {
      "text/html": [
       "<div>\n",
       "<style scoped>\n",
       "    .dataframe tbody tr th:only-of-type {\n",
       "        vertical-align: middle;\n",
       "    }\n",
       "\n",
       "    .dataframe tbody tr th {\n",
       "        vertical-align: top;\n",
       "    }\n",
       "\n",
       "    .dataframe thead th {\n",
       "        text-align: right;\n",
       "    }\n",
       "</style>\n",
       "<table border=\"1\" class=\"dataframe\">\n",
       "  <thead>\n",
       "    <tr style=\"text-align: right;\">\n",
       "      <th></th>\n",
       "      <th>country</th>\n",
       "      <th>continent</th>\n",
       "      <th>year</th>\n",
       "      <th>Total fertility rate</th>\n",
       "      <th>Total population</th>\n",
       "      <th>Life expectancy</th>\n",
       "    </tr>\n",
       "  </thead>\n",
       "  <tbody>\n",
       "    <tr>\n",
       "      <th>25</th>\n",
       "      <td>Afghanistan</td>\n",
       "      <td>Asia</td>\n",
       "      <td>1960</td>\n",
       "      <td>7.67</td>\n",
       "      <td>8994793.0</td>\n",
       "      <td>31.94</td>\n",
       "    </tr>\n",
       "    <tr>\n",
       "      <th>26</th>\n",
       "      <td>Afghanistan</td>\n",
       "      <td>Asia</td>\n",
       "      <td>1961</td>\n",
       "      <td>7.67</td>\n",
       "      <td>9164945.0</td>\n",
       "      <td>32.47</td>\n",
       "    </tr>\n",
       "  </tbody>\n",
       "</table>\n",
       "</div>"
      ],
      "text/plain": [
       "        country continent  year  Total fertility rate  Total population  \\\n",
       "25  Afghanistan      Asia  1960                  7.67         8994793.0   \n",
       "26  Afghanistan      Asia  1961                  7.67         9164945.0   \n",
       "\n",
       "    Life expectancy  \n",
       "25            31.94  \n",
       "26            32.47  "
      ]
     },
     "execution_count": 17,
     "metadata": {},
     "output_type": "execute_result"
    }
   ],
   "source": [
    "data_subset = df3.loc[df3['year'] >= 1960]\n",
    "data_subset.head(2)"
   ]
  },
  {
   "cell_type": "code",
   "execution_count": 23,
   "id": "4e17c423-9c79-42d0-8b81-3ef0438aed77",
   "metadata": {},
   "outputs": [],
   "source": [
    "for year in data_subset['year'].unique():\n",
    "    fig, ax = plt.subplots(figsize=(10, 10))\n",
    "    clarity_ranking = data_subset['continent']\n",
    "    sns.set_theme(style=\"darkgrid\")\n",
    "    sns.scatterplot(data=data_subset.loc[data_subset['year'] == year],\n",
    "                    x='Life expectancy',\n",
    "                    y='Total fertility rate',\n",
    "                    alpha=0.8,\n",
    "                    size='Total population',\n",
    "                    legend='brief',\n",
    "                    hue='continent',\n",
    "                    sizes=(50, 1000),\n",
    "                    ax = ax)\n",
    "    h, l = ax.get_legend_handles_labels()\n",
    "    plt.legend(h[0:7],l[0:7], bbox_to_anchor=(1.05, 1), loc=0, borderaxespad=0, fontsize=13)\n",
    "    plt.title(f'Life Expectancy and Fertility Rate by Continent during {year}')\n",
    "    plt.axis((30, 85, 0, 10))\n",
    "    plt.savefig(f\"./countries/df_{year}.png\")\n",
    "    plt.close();\n",
    "    "
   ]
  },
  {
   "cell_type": "code",
   "execution_count": 23,
   "id": "04d1f26d-05c4-45aa-aed3-a1a6d076f0a6",
   "metadata": {
    "tags": []
   },
   "outputs": [
    {
     "name": "stdout",
     "output_type": "stream",
     "text": [
      "Requirement already satisfied: imageio in /opt/anaconda3/lib/python3.9/site-packages (2.19.3)\n",
      "Requirement already satisfied: numpy in /opt/anaconda3/lib/python3.9/site-packages (from imageio) (1.21.5)\n",
      "Requirement already satisfied: pillow>=8.3.2 in /opt/anaconda3/lib/python3.9/site-packages (from imageio) (9.2.0)\n",
      "Note: you may need to restart the kernel to use updated packages.\n"
     ]
    }
   ],
   "source": [
    "#!pip install imageio"
   ]
  },
  {
   "cell_type": "code",
   "execution_count": 34,
   "id": "7129ce1f-2ae2-4edf-be42-614359727615",
   "metadata": {},
   "outputs": [],
   "source": [
    "import imageio.v2 as imageio\n",
    "\n",
    "images = []\n",
    "\n",
    "for i in range(1960, 2015):\n",
    "    filename = '/Users/chris/Desktop/spiced_projects/spiced_academy/week_1/Countries/df_{}.png'.format(i)\n",
    "    images.append(imageio.imread(filename))\n",
    "\n",
    "imageio.mimsave('Chris_Williams_Animated.gif', images, fps=20)\n"
   ]
  }
 ],
 "metadata": {
  "kernelspec": {
   "display_name": "Python 3 (ipykernel)",
   "language": "python",
   "name": "python3"
  },
  "language_info": {
   "codemirror_mode": {
    "name": "ipython",
    "version": 3
   },
   "file_extension": ".py",
   "mimetype": "text/x-python",
   "name": "python",
   "nbconvert_exporter": "python",
   "pygments_lexer": "ipython3",
   "version": "3.10.9"
  },
  "vscode": {
   "interpreter": {
    "hash": "aee8b7b246df8f9039afb4144a1f6fd8d2ca17a180786b69acc140d282b71a49"
   }
  }
 },
 "nbformat": 4,
 "nbformat_minor": 5
}
